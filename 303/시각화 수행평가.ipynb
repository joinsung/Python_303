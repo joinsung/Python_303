{
 "cells": [
  {
   "cell_type": "markdown",
   "metadata": {},
   "source": [
    "### 30317 조인성"
   ]
  },
  {
   "cell_type": "markdown",
   "metadata": {},
   "source": [
    "파일가져오기"
   ]
  },
  {
   "cell_type": "code",
   "execution_count": 1,
   "metadata": {},
   "outputs": [],
   "source": [
    "import pandas as pd "
   ]
  },
  {
   "cell_type": "code",
   "execution_count": 2,
   "metadata": {},
   "outputs": [],
   "source": [
    "path = r'C:\\Users\\user\\Desktop\\303\\A.csv'"
   ]
  },
  {
   "cell_type": "code",
   "execution_count": 3,
   "metadata": {},
   "outputs": [
    {
     "data": {
      "text/plain": [
       "'C:\\\\Users\\\\user\\\\Desktop\\\\303\\\\A.csv'"
      ]
     },
     "execution_count": 3,
     "metadata": {},
     "output_type": "execute_result"
    }
   ],
   "source": [
    "path"
   ]
  },
  {
   "cell_type": "code",
   "execution_count": 5,
   "metadata": {},
   "outputs": [],
   "source": [
    "df=pd.read_csv(path, encoding = 'cp949')"
   ]
  },
  {
   "cell_type": "code",
   "execution_count": 29,
   "metadata": {},
   "outputs": [
    {
     "data": {
      "text/html": [
       "<div>\n",
       "<style scoped>\n",
       "    .dataframe tbody tr th:only-of-type {\n",
       "        vertical-align: middle;\n",
       "    }\n",
       "\n",
       "    .dataframe tbody tr th {\n",
       "        vertical-align: top;\n",
       "    }\n",
       "\n",
       "    .dataframe thead th {\n",
       "        text-align: right;\n",
       "    }\n",
       "</style>\n",
       "<table border=\"1\" class=\"dataframe\">\n",
       "  <thead>\n",
       "    <tr style=\"text-align: right;\">\n",
       "      <th></th>\n",
       "      <th>출신고교</th>\n",
       "      <th>학번</th>\n",
       "      <th>이름</th>\n",
       "      <th>국어</th>\n",
       "      <th>수학</th>\n",
       "      <th>영어</th>\n",
       "      <th>과탐1</th>\n",
       "      <th>과탐2</th>\n",
       "    </tr>\n",
       "  </thead>\n",
       "  <tbody>\n",
       "    <tr>\n",
       "      <td>0</td>\n",
       "      <td>A</td>\n",
       "      <td>30104</td>\n",
       "      <td>조매미</td>\n",
       "      <td>70</td>\n",
       "      <td>66</td>\n",
       "      <td>78</td>\n",
       "      <td>38</td>\n",
       "      <td>42</td>\n",
       "    </tr>\n",
       "    <tr>\n",
       "      <td>1</td>\n",
       "      <td>A</td>\n",
       "      <td>30115</td>\n",
       "      <td>김개미</td>\n",
       "      <td>71</td>\n",
       "      <td>77</td>\n",
       "      <td>89</td>\n",
       "      <td>15</td>\n",
       "      <td>20</td>\n",
       "    </tr>\n",
       "    <tr>\n",
       "      <td>2</td>\n",
       "      <td>A</td>\n",
       "      <td>30117</td>\n",
       "      <td>박모기</td>\n",
       "      <td>76</td>\n",
       "      <td>55</td>\n",
       "      <td>75</td>\n",
       "      <td>35</td>\n",
       "      <td>30</td>\n",
       "    </tr>\n",
       "    <tr>\n",
       "      <td>3</td>\n",
       "      <td>A</td>\n",
       "      <td>30120</td>\n",
       "      <td>최파리</td>\n",
       "      <td>69</td>\n",
       "      <td>66</td>\n",
       "      <td>51</td>\n",
       "      <td>15</td>\n",
       "      <td>36</td>\n",
       "    </tr>\n",
       "    <tr>\n",
       "      <td>4</td>\n",
       "      <td>A</td>\n",
       "      <td>30215</td>\n",
       "      <td>정땅벌</td>\n",
       "      <td>63</td>\n",
       "      <td>20</td>\n",
       "      <td>76</td>\n",
       "      <td>15</td>\n",
       "      <td>19</td>\n",
       "    </tr>\n",
       "    <tr>\n",
       "      <td>5</td>\n",
       "      <td>A</td>\n",
       "      <td>30228</td>\n",
       "      <td>오멸치</td>\n",
       "      <td>67</td>\n",
       "      <td>51</td>\n",
       "      <td>48</td>\n",
       "      <td>21</td>\n",
       "      <td>12</td>\n",
       "    </tr>\n",
       "    <tr>\n",
       "      <td>6</td>\n",
       "      <td>A</td>\n",
       "      <td>30229</td>\n",
       "      <td>김꿀벌</td>\n",
       "      <td>93</td>\n",
       "      <td>77</td>\n",
       "      <td>78</td>\n",
       "      <td>33</td>\n",
       "      <td>44</td>\n",
       "    </tr>\n",
       "    <tr>\n",
       "      <td>7</td>\n",
       "      <td>A</td>\n",
       "      <td>30305</td>\n",
       "      <td>윤여치</td>\n",
       "      <td>88</td>\n",
       "      <td>66</td>\n",
       "      <td>70</td>\n",
       "      <td>41</td>\n",
       "      <td>21</td>\n",
       "    </tr>\n",
       "    <tr>\n",
       "      <td>8</td>\n",
       "      <td>A</td>\n",
       "      <td>30315</td>\n",
       "      <td>장곱등</td>\n",
       "      <td>86</td>\n",
       "      <td>66</td>\n",
       "      <td>84</td>\n",
       "      <td>35</td>\n",
       "      <td>38</td>\n",
       "    </tr>\n",
       "    <tr>\n",
       "      <td>9</td>\n",
       "      <td>A</td>\n",
       "      <td>30317</td>\n",
       "      <td>임나방</td>\n",
       "      <td>73</td>\n",
       "      <td>77</td>\n",
       "      <td>75</td>\n",
       "      <td>32</td>\n",
       "      <td>25</td>\n",
       "    </tr>\n",
       "    <tr>\n",
       "      <td>10</td>\n",
       "      <td>A</td>\n",
       "      <td>30319</td>\n",
       "      <td>한말벌</td>\n",
       "      <td>84</td>\n",
       "      <td>65</td>\n",
       "      <td>75</td>\n",
       "      <td>42</td>\n",
       "      <td>26</td>\n",
       "    </tr>\n",
       "    <tr>\n",
       "      <td>11</td>\n",
       "      <td>A</td>\n",
       "      <td>30401</td>\n",
       "      <td>강나비</td>\n",
       "      <td>68</td>\n",
       "      <td>80</td>\n",
       "      <td>72</td>\n",
       "      <td>10</td>\n",
       "      <td>12</td>\n",
       "    </tr>\n",
       "    <tr>\n",
       "      <td>12</td>\n",
       "      <td>A</td>\n",
       "      <td>30404</td>\n",
       "      <td>서삼치</td>\n",
       "      <td>88</td>\n",
       "      <td>65</td>\n",
       "      <td>86</td>\n",
       "      <td>41</td>\n",
       "      <td>37</td>\n",
       "    </tr>\n",
       "    <tr>\n",
       "      <td>13</td>\n",
       "      <td>A</td>\n",
       "      <td>30421</td>\n",
       "      <td>신참치</td>\n",
       "      <td>98</td>\n",
       "      <td>92</td>\n",
       "      <td>85</td>\n",
       "      <td>44</td>\n",
       "      <td>35</td>\n",
       "    </tr>\n",
       "    <tr>\n",
       "      <td>14</td>\n",
       "      <td>A</td>\n",
       "      <td>30428</td>\n",
       "      <td>권갈치</td>\n",
       "      <td>91</td>\n",
       "      <td>74</td>\n",
       "      <td>83</td>\n",
       "      <td>38</td>\n",
       "      <td>42</td>\n",
       "    </tr>\n",
       "    <tr>\n",
       "      <td>15</td>\n",
       "      <td>A</td>\n",
       "      <td>30503</td>\n",
       "      <td>황넙치</td>\n",
       "      <td>73</td>\n",
       "      <td>70</td>\n",
       "      <td>76</td>\n",
       "      <td>35</td>\n",
       "      <td>33</td>\n",
       "    </tr>\n",
       "    <tr>\n",
       "      <td>16</td>\n",
       "      <td>A</td>\n",
       "      <td>30512</td>\n",
       "      <td>안준치</td>\n",
       "      <td>84</td>\n",
       "      <td>77</td>\n",
       "      <td>66</td>\n",
       "      <td>19</td>\n",
       "      <td>23</td>\n",
       "    </tr>\n",
       "    <tr>\n",
       "      <td>17</td>\n",
       "      <td>A</td>\n",
       "      <td>30518</td>\n",
       "      <td>송날치</td>\n",
       "      <td>90</td>\n",
       "      <td>56</td>\n",
       "      <td>61</td>\n",
       "      <td>20</td>\n",
       "      <td>33</td>\n",
       "    </tr>\n",
       "    <tr>\n",
       "      <td>18</td>\n",
       "      <td>A</td>\n",
       "      <td>30529</td>\n",
       "      <td>전꽁치</td>\n",
       "      <td>79</td>\n",
       "      <td>46</td>\n",
       "      <td>68</td>\n",
       "      <td>34</td>\n",
       "      <td>34</td>\n",
       "    </tr>\n",
       "    <tr>\n",
       "      <td>19</td>\n",
       "      <td>A</td>\n",
       "      <td>30622</td>\n",
       "      <td>유쥐치</td>\n",
       "      <td>95</td>\n",
       "      <td>85</td>\n",
       "      <td>91</td>\n",
       "      <td>38</td>\n",
       "      <td>32</td>\n",
       "    </tr>\n",
       "    <tr>\n",
       "      <td>20</td>\n",
       "      <td>A</td>\n",
       "      <td>30707</td>\n",
       "      <td>고조기</td>\n",
       "      <td>57</td>\n",
       "      <td>69</td>\n",
       "      <td>72</td>\n",
       "      <td>8</td>\n",
       "      <td>18</td>\n",
       "    </tr>\n",
       "    <tr>\n",
       "      <td>21</td>\n",
       "      <td>A</td>\n",
       "      <td>30709</td>\n",
       "      <td>문메기</td>\n",
       "      <td>72</td>\n",
       "      <td>77</td>\n",
       "      <td>91</td>\n",
       "      <td>18</td>\n",
       "      <td>33</td>\n",
       "    </tr>\n",
       "    <tr>\n",
       "      <td>22</td>\n",
       "      <td>A</td>\n",
       "      <td>30803</td>\n",
       "      <td>손뿔돔</td>\n",
       "      <td>71</td>\n",
       "      <td>80</td>\n",
       "      <td>48</td>\n",
       "      <td>34</td>\n",
       "      <td>29</td>\n",
       "    </tr>\n",
       "    <tr>\n",
       "      <td>23</td>\n",
       "      <td>A</td>\n",
       "      <td>30815</td>\n",
       "      <td>배옥돔</td>\n",
       "      <td>49</td>\n",
       "      <td>70</td>\n",
       "      <td>31</td>\n",
       "      <td>12</td>\n",
       "      <td>21</td>\n",
       "    </tr>\n",
       "    <tr>\n",
       "      <td>24</td>\n",
       "      <td>A</td>\n",
       "      <td>30822</td>\n",
       "      <td>조황돔</td>\n",
       "      <td>84</td>\n",
       "      <td>88</td>\n",
       "      <td>76</td>\n",
       "      <td>37</td>\n",
       "      <td>37</td>\n",
       "    </tr>\n",
       "    <tr>\n",
       "      <td>25</td>\n",
       "      <td>A</td>\n",
       "      <td>30824</td>\n",
       "      <td>백돌돔</td>\n",
       "      <td>83</td>\n",
       "      <td>88</td>\n",
       "      <td>80</td>\n",
       "      <td>30</td>\n",
       "      <td>30</td>\n",
       "    </tr>\n",
       "    <tr>\n",
       "      <td>26</td>\n",
       "      <td>A</td>\n",
       "      <td>30827</td>\n",
       "      <td>허대구</td>\n",
       "      <td>95</td>\n",
       "      <td>70</td>\n",
       "      <td>67</td>\n",
       "      <td>35</td>\n",
       "      <td>29</td>\n",
       "    </tr>\n",
       "    <tr>\n",
       "      <td>27</td>\n",
       "      <td>A</td>\n",
       "      <td>30901</td>\n",
       "      <td>유명태</td>\n",
       "      <td>87</td>\n",
       "      <td>69</td>\n",
       "      <td>96</td>\n",
       "      <td>37</td>\n",
       "      <td>40</td>\n",
       "    </tr>\n",
       "    <tr>\n",
       "      <td>28</td>\n",
       "      <td>A</td>\n",
       "      <td>30928</td>\n",
       "      <td>남동태</td>\n",
       "      <td>91</td>\n",
       "      <td>50</td>\n",
       "      <td>80</td>\n",
       "      <td>29</td>\n",
       "      <td>26</td>\n",
       "    </tr>\n",
       "  </tbody>\n",
       "</table>\n",
       "</div>"
      ],
      "text/plain": [
       "   출신고교     학번   이름  국어  수학  영어  과탐1  과탐2\n",
       "0     A  30104  조매미  70  66  78   38   42\n",
       "1     A  30115  김개미  71  77  89   15   20\n",
       "2     A  30117  박모기  76  55  75   35   30\n",
       "3     A  30120  최파리  69  66  51   15   36\n",
       "4     A  30215  정땅벌  63  20  76   15   19\n",
       "5     A  30228  오멸치  67  51  48   21   12\n",
       "6     A  30229  김꿀벌  93  77  78   33   44\n",
       "7     A  30305  윤여치  88  66  70   41   21\n",
       "8     A  30315  장곱등  86  66  84   35   38\n",
       "9     A  30317  임나방  73  77  75   32   25\n",
       "10    A  30319  한말벌  84  65  75   42   26\n",
       "11    A  30401  강나비  68  80  72   10   12\n",
       "12    A  30404  서삼치  88  65  86   41   37\n",
       "13    A  30421  신참치  98  92  85   44   35\n",
       "14    A  30428  권갈치  91  74  83   38   42\n",
       "15    A  30503  황넙치  73  70  76   35   33\n",
       "16    A  30512  안준치  84  77  66   19   23\n",
       "17    A  30518  송날치  90  56  61   20   33\n",
       "18    A  30529  전꽁치  79  46  68   34   34\n",
       "19    A  30622  유쥐치  95  85  91   38   32\n",
       "20    A  30707  고조기  57  69  72    8   18\n",
       "21    A  30709  문메기  72  77  91   18   33\n",
       "22    A  30803  손뿔돔  71  80  48   34   29\n",
       "23    A  30815  배옥돔  49  70  31   12   21\n",
       "24    A  30822  조황돔  84  88  76   37   37\n",
       "25    A  30824  백돌돔  83  88  80   30   30\n",
       "26    A  30827  허대구  95  70  67   35   29\n",
       "27    A  30901  유명태  87  69  96   37   40\n",
       "28    A  30928  남동태  91  50  80   29   26"
      ]
     },
     "execution_count": 29,
     "metadata": {},
     "output_type": "execute_result"
    }
   ],
   "source": [
    "df"
   ]
  },
  {
   "cell_type": "code",
   "execution_count": 33,
   "metadata": {},
   "outputs": [],
   "source": [
    "t=df.head(5)"
   ]
  },
  {
   "cell_type": "code",
   "execution_count": 34,
   "metadata": {},
   "outputs": [],
   "source": [
    "a=t['이름']\n",
    "b=t['영어']"
   ]
  },
  {
   "cell_type": "markdown",
   "metadata": {},
   "source": [
    "판다스 이용해서 데이터프레임으로 보여주기"
   ]
  },
  {
   "cell_type": "code",
   "execution_count": 39,
   "metadata": {},
   "outputs": [
    {
     "data": {
      "text/plain": [
       "<matplotlib.legend.Legend at 0x17776aa6808>"
      ]
     },
     "execution_count": 39,
     "metadata": {},
     "output_type": "execute_result"
    },
    {
     "data": {
      "image/png": "[encoded data removed]",
      "text/plain": [
       "<Figure size 432x288 with 1 Axes>"
      ]
     },
     "metadata": {
      "needs_background": "light"
     },
     "output_type": "display_data"
    }
   ],
   "source": [
    "import matplotlib.pyplot as plt\n",
    "plt.bar (a, b, color = 'red')\n",
    "plt.ylabel('이름')\n",
    "plt.xlabel('영어')\n",
    "plt.title('Score')\n",
    "plt.legend('value')"
   ]
  },
  {
   "cell_type": "markdown",
   "metadata": {},
   "source": [
    "이름과 성적(영어)으로 보여주기"
   ]
  },
  {
   "cell_type": "code",
   "execution_count": 41,
   "metadata": {},
   "outputs": [
    {
     "data": {
      "text/plain": [
       "Text(0.5, 0, '영어')"
      ]
     },
     "execution_count": 41,
     "metadata": {},
     "output_type": "execute_result"
    },
    {
     "data": {
      "image/png": "[encoded data removed]",
      "text/plain": [
       "<Figure size 432x288 with 1 Axes>"
      ]
     },
     "metadata": {
      "needs_background": "light"
     },
     "output_type": "display_data"
    }
   ],
   "source": [
    "import matplotlib.pyplot as plt\n",
    "from matplotlib import rc\n",
    "rc('font', family='gulim')\n",
    "plt.bar (a, b, color = 'blue')\n",
    "plt.plot(a,b)\n",
    "plt.ylabel('이름')\n",
    "plt.xlabel('영어')"
   ]
  },
  {
   "cell_type": "markdown",
   "metadata": {},
   "source": [
    "파일을 5명의 학생만으로(head())"
   ]
  },
  {
   "cell_type": "code",
   "execution_count": 16,
   "metadata": {},
   "outputs": [
    {
     "data": {
      "text/html": [
       "<div>\n",
       "<style scoped>\n",
       "    .dataframe tbody tr th:only-of-type {\n",
       "        vertical-align: middle;\n",
       "    }\n",
       "\n",
       "    .dataframe tbody tr th {\n",
       "        vertical-align: top;\n",
       "    }\n",
       "\n",
       "    .dataframe thead th {\n",
       "        text-align: right;\n",
       "    }\n",
       "</style>\n",
       "<table border=\"1\" class=\"dataframe\">\n",
       "  <thead>\n",
       "    <tr style=\"text-align: right;\">\n",
       "      <th></th>\n",
       "      <th>출신고교</th>\n",
       "      <th>학번</th>\n",
       "      <th>이름</th>\n",
       "      <th>국어</th>\n",
       "      <th>수학</th>\n",
       "      <th>영어</th>\n",
       "      <th>과탐1</th>\n",
       "      <th>과탐2</th>\n",
       "    </tr>\n",
       "  </thead>\n",
       "  <tbody>\n",
       "    <tr>\n",
       "      <td>0</td>\n",
       "      <td>A</td>\n",
       "      <td>30104</td>\n",
       "      <td>조매미</td>\n",
       "      <td>70</td>\n",
       "      <td>66</td>\n",
       "      <td>78</td>\n",
       "      <td>38</td>\n",
       "      <td>42</td>\n",
       "    </tr>\n",
       "    <tr>\n",
       "      <td>1</td>\n",
       "      <td>A</td>\n",
       "      <td>30115</td>\n",
       "      <td>김개미</td>\n",
       "      <td>71</td>\n",
       "      <td>77</td>\n",
       "      <td>89</td>\n",
       "      <td>15</td>\n",
       "      <td>20</td>\n",
       "    </tr>\n",
       "    <tr>\n",
       "      <td>2</td>\n",
       "      <td>A</td>\n",
       "      <td>30117</td>\n",
       "      <td>박모기</td>\n",
       "      <td>76</td>\n",
       "      <td>55</td>\n",
       "      <td>75</td>\n",
       "      <td>35</td>\n",
       "      <td>30</td>\n",
       "    </tr>\n",
       "    <tr>\n",
       "      <td>3</td>\n",
       "      <td>A</td>\n",
       "      <td>30120</td>\n",
       "      <td>최파리</td>\n",
       "      <td>69</td>\n",
       "      <td>66</td>\n",
       "      <td>51</td>\n",
       "      <td>15</td>\n",
       "      <td>36</td>\n",
       "    </tr>\n",
       "    <tr>\n",
       "      <td>4</td>\n",
       "      <td>A</td>\n",
       "      <td>30215</td>\n",
       "      <td>정땅벌</td>\n",
       "      <td>63</td>\n",
       "      <td>20</td>\n",
       "      <td>76</td>\n",
       "      <td>15</td>\n",
       "      <td>19</td>\n",
       "    </tr>\n",
       "  </tbody>\n",
       "</table>\n",
       "</div>"
      ],
      "text/plain": [
       "  출신고교     학번   이름  국어  수학  영어  과탐1  과탐2\n",
       "0    A  30104  조매미  70  66  78   38   42\n",
       "1    A  30115  김개미  71  77  89   15   20\n",
       "2    A  30117  박모기  76  55  75   35   30\n",
       "3    A  30120  최파리  69  66  51   15   36\n",
       "4    A  30215  정땅벌  63  20  76   15   19"
      ]
     },
     "execution_count": 16,
     "metadata": {},
     "output_type": "execute_result"
    }
   ],
   "source": [
    "t=df.head(5)\n",
    "t"
   ]
  },
  {
   "cell_type": "code",
   "execution_count": 18,
   "metadata": {},
   "outputs": [],
   "source": [
    "a=t['이름']"
   ]
  },
  {
   "cell_type": "code",
   "execution_count": 20,
   "metadata": {},
   "outputs": [
    {
     "data": {
      "text/plain": [
       "0    조매미\n",
       "1    김개미\n",
       "2    박모기\n",
       "3    최파리\n",
       "4    정땅벌\n",
       "Name: 이름, dtype: object"
      ]
     },
     "execution_count": 20,
     "metadata": {},
     "output_type": "execute_result"
    }
   ],
   "source": [
    "a"
   ]
  },
  {
   "cell_type": "code",
   "execution_count": 42,
   "metadata": {},
   "outputs": [],
   "source": [
    "b=t['영어']"
   ]
  },
  {
   "cell_type": "code",
   "execution_count": 43,
   "metadata": {},
   "outputs": [
    {
     "data": {
      "text/plain": [
       "0    78\n",
       "1    89\n",
       "2    75\n",
       "3    51\n",
       "4    76\n",
       "Name: 영어, dtype: int64"
      ]
     },
     "execution_count": 43,
     "metadata": {},
     "output_type": "execute_result"
    }
   ],
   "source": [
    "b"
   ]
  }
 ],
 "metadata": {
  "kernelspec": {
   "display_name": "Python 3",
   "language": "python",
   "name": "python3"
  },
  "language_info": {
   "codemirror_mode": {
    "name": "ipython",
    "version": 3
   },
   "file_extension": ".py",
   "mimetype": "text/x-python",
   "name": "python",
   "nbconvert_exporter": "python",
   "pygments_lexer": "ipython3",
   "version": "3.7.4"
  }
 },
 "nbformat": 4,
 "nbformat_minor": 2
}
