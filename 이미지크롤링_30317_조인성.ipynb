{
 "cells": [
  {
   "cell_type": "markdown",
   "metadata": {},
   "source": [
    "## 이미지크롤링_30317_조인성"
   ]
  },
  {
   "cell_type": "code",
   "execution_count": 1,
   "metadata": {},
   "outputs": [
    {
     "name": "stdout",
     "output_type": "stream",
     "text": [
      "Requirement already satisfied: bs4 in c:\\users\\user\\anaconda3\\lib\\site-packages (0.0.1)\n",
      "Requirement already satisfied: beautifulsoup4 in c:\\users\\user\\anaconda3\\lib\\site-packages (from bs4) (4.8.0)\n",
      "Requirement already satisfied: soupsieve>=1.2 in c:\\users\\user\\anaconda3\\lib\\site-packages (from beautifulsoup4->bs4) (1.9.3)\n",
      "Note: you may need to restart the kernel to use updated packages.\n"
     ]
    }
   ],
   "source": [
    "pip install bs4"
   ]
  },
  {
   "cell_type": "code",
   "execution_count": 2,
   "metadata": {},
   "outputs": [],
   "source": [
    "from bs4 import BeautifulSoup as bs\n",
    "from urllib.request import urlopen\n",
    "from urllib.parse import quote_plus"
   ]
  },
  {
   "cell_type": "code",
   "execution_count": 3,
   "metadata": {},
   "outputs": [
    {
     "name": "stdout",
     "output_type": "stream",
     "text": [
      "검색어 : 강아지\n",
      "크롤링 개수 : 50\n"
     ]
    }
   ],
   "source": [
    "base_url = 'https://search.naver.com/search.naver?where=image&sm=tab_jum&query='\n",
    "plus_url = input('검색어 : ')\n",
    "num = int(input('크롤링 개수 : '))"
   ]
  },
  {
   "cell_type": "code",
   "execution_count": 4,
   "metadata": {},
   "outputs": [],
   "source": [
    "url = base_url + quote_plus(plus_url)\n",
    "html = urlopen(url)"
   ]
  },
  {
   "cell_type": "code",
   "execution_count": 5,
   "metadata": {
    "scrolled": false
   },
   "outputs": [
    {
     "data": {
      "text/plain": [
       "[<img alt=\"펫마트 | 플레이스\" class=\"_img\" data-height=\"351\" data-source=\"https://search.pstatic.net/common/?src=https%3A%2F%2Fldb-phinf.pstatic.net%2F20181107_33%2F1541554970154mcKiF_JPEG%2Ft2uffS88pAG0-0IM015HJVcM.jpg&amp;type=b400\" data-width=\"331\" onerror=\"var we=$Element(this); we.addClass('bg_nimg'); we.attr('alt','이미지준비중'); we.attr('src','data:image/gif;base64,R0lGODlhAQABAIAAAAAAAP///yH5BAEAAAAALAAAAAABAAEAAAIBRAA7');\" src=\"data:image/gif;base64,R0lGODlhAQABAIAAAAAAAP///yH5BAEAAAAALAAAAAABAAEAAAIBRAA7\"/>,\n",
       " <img alt=\"강아지 임신기간 및 주의사항 강아지 임신증상 | 블로그\" class=\"_img\" data-height=\"507\" data-source=\"https://search.pstatic.net/common/?src=http%3A%2F%2Fblogfiles.naver.net%2F20151125_71%2Fdlwlgns2621_1448432198844cYPws_JPEG%2Fmdpcdn_com_20151125_151606.jpg&amp;type=b400\" data-width=\"740\" onerror=\"var we=$Element(this); we.addClass('bg_nimg'); we.attr('alt','이미지준비중'); we.attr('src','data:image/gif;base64,R0lGODlhAQABAIAAAAAAAP///yH5BAEAAAAALAAAAAABAAEAAAIBRAA7');\" src=\"data:image/gif;base64,R0lGODlhAQABAIAAAAAAAP///yH5BAEAAAAALAAAAAABAAEAAAIBRAA7\"/>,\n",
       " <img alt=\"컴퓨터 수업중 | 블로그\" class=\"_img\" data-height=\"465\" data-source=\"https://search.pstatic.net/common/?src=http%3A%2F%2Fblogfiles.naver.net%2F20100615_12%2Fkkchblue_12765686609822pxfs_jpg%2F%25B0%25AD%25BE%25C6%25C1%25F6_kkchblue.jpg&amp;type=b400\" data-width=\"531\" onerror=\"var we=$Element(this); we.addClass('bg_nimg'); we.attr('alt','이미지준비중'); we.attr('src','data:image/gif;base64,R0lGODlhAQABAIAAAAAAAP///yH5BAEAAAAALAAAAAABAAEAAAIBRAA7');\" src=\"data:image/gif;base64,R0lGODlhAQABAIAAAAAAAP///yH5BAEAAAAALAAAAAABAAEAAAIBRAA7\"/>,\n",
       " <img alt=\"작은 강아지 | 카페\" class=\"_img\" data-height=\"227\" data-source=\"https://search.pstatic.net/common/?src=http%3A%2F%2Fcafefiles.naver.net%2F20091219_244%2Fdnsaud1541_1261187208316qpRId_jpg%2Fsqs_dnsaud1541.jpg&amp;type=b400\" data-width=\"365\" onerror=\"var we=$Element(this); we.addClass('bg_nimg'); we.attr('alt','이미지준비중'); we.attr('src','data:image/gif;base64,R0lGODlhAQABAIAAAAAAAP///yH5BAEAAAAALAAAAAABAAEAAAIBRAA7');\" src=\"data:image/gif;base64,R0lGODlhAQABAIAAAAAAAP///yH5BAEAAAAALAAAAAABAAEAAAIBRAA7\"/>,\n",
       " <img alt=\"이벤트라서 하는데 선물주세요~~ | 카페\" class=\"_img\" data-height=\"282\" data-source=\"https://search.pstatic.net/common/?src=http%3A%2F%2Fcafefiles.naver.net%2F20100704_260%2Fkelly0029_1278199872306P2d8m_png%2F983121245_1257905494_kelly0029.png&amp;type=b400\" data-width=\"305\" onerror=\"var we=$Element(this); we.addClass('bg_nimg'); we.attr('alt','이미지준비중'); we.attr('src','data:image/gif;base64,R0lGODlhAQABAIAAAAAAAP///yH5BAEAAAAALAAAAAABAAEAAAIBRAA7');\" src=\"data:image/gif;base64,R0lGODlhAQABAIAAAAAAAP///yH5BAEAAAAALAAAAAABAAEAAAIBRAA7\"/>,\n",
       " <img alt=\"애완견.ㅠㅠ | 카페\" class=\"_img\" data-height=\"360\" data-source=\"https://search.pstatic.net/common/?src=http%3A%2F%2Fcafefiles.naver.net%2F20100113_10%2Fdbwjd177_12633924830421M1mY_jpg%2Fc6f7b8de2_yousongyee_dbwjd177.jpg&amp;type=b400\" data-width=\"320\" onerror=\"var we=$Element(this); we.addClass('bg_nimg'); we.attr('alt','이미지준비중'); we.attr('src','data:image/gif;base64,R0lGODlhAQABAIAAAAAAAP///yH5BAEAAAAALAAAAAABAAEAAAIBRAA7');\" src=\"data:image/gif;base64,R0lGODlhAQABAIAAAAAAAP///yH5BAEAAAAALAAAAAABAAEAAAIBRAA7\"/>,\n",
       " <img alt=\"강아지사진2장! | 카페\" class=\"_img\" data-height=\"555\" data-source=\"https://search.pstatic.net/common/?src=http%3A%2F%2Fcafefiles.naver.net%2F20111215_169%2Fminnieok_1323951500824vawah_jpg%2F%25B0%25AD%25BE%25C6%25C1%25F63_minnieok.jpg&amp;type=b400\" data-width=\"737\" onerror=\"var we=$Element(this); we.addClass('bg_nimg'); we.attr('alt','이미지준비중'); we.attr('src','data:image/gif;base64,R0lGODlhAQABAIAAAAAAAP///yH5BAEAAAAALAAAAAABAAEAAAIBRAA7');\" src=\"data:image/gif;base64,R0lGODlhAQABAIAAAAAAAP///yH5BAEAAAAALAAAAAABAAEAAAIBRAA7\"/>,\n",
       " <img alt=\"포메라니안 강아지분양 오케이독 | 블로그\" class=\"_img\" data-height=\"500\" data-source=\"https://search.pstatic.net/common/?src=http%3A%2F%2Fblogfiles.naver.net%2F20130809_277%2Fphilip0911_1376017859517O0zNC_JPEG%2Fpo1.jpg&amp;type=b400\" data-width=\"670\" onerror=\"var we=$Element(this); we.addClass('bg_nimg'); we.attr('alt','이미지준비중'); we.attr('src','data:image/gif;base64,R0lGODlhAQABAIAAAAAAAP///yH5BAEAAAAALAAAAAABAAEAAAIBRAA7');\" src=\"data:image/gif;base64,R0lGODlhAQABAIAAAAAAAP///yH5BAEAAAAALAAAAAABAAEAAAIBRAA7\"/>,\n",
       " <img alt=\"퍼스트드림/퍼스트드림 이야기3 | 블로그\" class=\"_img\" data-height=\"422\" data-source=\"https://search.pstatic.net/common/?src=http%3A%2F%2Fblogfiles.naver.net%2F20110502_47%2Fhsk1923_1304318402544Ezlir_JPEG%2F%25B1%25CD%25BF%25A9%25BF%25EE_%25B0%25AD%25BE%25C6%25C1%25F6.jpg&amp;type=b400\" data-width=\"550\" onerror=\"var we=$Element(this); we.addClass('bg_nimg'); we.attr('alt','이미지준비중'); we.attr('src','data:image/gif;base64,R0lGODlhAQABAIAAAAAAAP///yH5BAEAAAAALAAAAAABAAEAAAIBRAA7');\" src=\"data:image/gif;base64,R0lGODlhAQABAIAAAAAAAP///yH5BAEAAAAALAAAAAABAAEAAAIBRAA7\"/>,\n",
       " <img alt=\"강아지 종류와 특징!!!! | 지식iN\" class=\"_img\" data-height=\"440\" data-source=\"https://search.pstatic.net/common/?src=http%3A%2F%2Fkinimage.naver.net%2F20111121_84%2F1321861454482RFWUQ_JPEG%2FBBE7C1F8-1_vhal723.jpg&amp;type=b400\" data-width=\"620\" onerror=\"var we=$Element(this); we.addClass('bg_nimg'); we.attr('alt','이미지준비중'); we.attr('src','data:image/gif;base64,R0lGODlhAQABAIAAAAAAAP///yH5BAEAAAAALAAAAAABAAEAAAIBRAA7');\" src=\"data:image/gif;base64,R0lGODlhAQABAIAAAAAAAP///yH5BAEAAAAALAAAAAABAAEAAAIBRAA7\"/>,\n",
       " <img alt=\" 소녀시대. 강아지 | 블로그\" class=\"_img\" data-height=\"345\" data-source=\"https://search.pstatic.net/common/?src=http%3A%2F%2Fblogfiles.naver.net%2Fdata44%2F2009%2F6%2F24%2F163%2F%25B9%25CC_%25B0%25AD%25BE%25C6%25C1%25F6_kimyubin0303.jpg&amp;type=b400\" data-width=\"460\" onerror=\"var we=$Element(this); we.addClass('bg_nimg'); we.attr('alt','이미지준비중'); we.attr('src','data:image/gif;base64,R0lGODlhAQABAIAAAAAAAP///yH5BAEAAAAALAAAAAABAAEAAAIBRAA7');\" src=\"data:image/gif;base64,R0lGODlhAQABAIAAAAAAAP///yH5BAEAAAAALAAAAAABAAEAAAIBRAA7\"/>,\n",
       " <img alt=\"귀여운 강아지 | 카페\" class=\"_img\" data-height=\"410\" data-source=\"https://search.pstatic.net/common/?src=http%3A%2F%2Fcafefiles.naver.net%2F20100104_120%2Fqkrskdud321_1262610137491esTl6_jpg%2F2009-12-25_183b183b23_fbalswjd02_qkrskdud321.jpg&amp;type=b400\" data-width=\"550\" onerror=\"var we=$Element(this); we.addClass('bg_nimg'); we.attr('alt','이미지준비중'); we.attr('src','data:image/gif;base64,R0lGODlhAQABAIAAAAAAAP///yH5BAEAAAAALAAAAAABAAEAAAIBRAA7');\" src=\"data:image/gif;base64,R0lGODlhAQABAIAAAAAAAP///yH5BAEAAAAALAAAAAABAAEAAAIBRAA7\"/>,\n",
       " <img alt=\"日 얼짱 강아지 ‘슌스케’ 화제…“사진집도 냈어요” | 포토뉴스\" class=\"_img\" data-height=\"392\" data-source=\"https://search.pstatic.net/common/?src=http%3A%2F%2Fimgnews.naver.net%2Fimage%2F032%2F2011%2F10%2F05%2F3.jpg&amp;type=b400\" data-width=\"500\" onerror=\"var we=$Element(this); we.addClass('bg_nimg'); we.attr('alt','이미지준비중'); we.attr('src','data:image/gif;base64,R0lGODlhAQABAIAAAAAAAP///yH5BAEAAAAALAAAAAABAAEAAAIBRAA7');\" src=\"data:image/gif;base64,R0lGODlhAQABAIAAAAAAAP///yH5BAEAAAAALAAAAAABAAEAAAIBRAA7\"/>,\n",
       " <img alt=\"*@강아지 확대@* | 카페\" class=\"_img\" data-height=\"534\" data-source=\"https://search.pstatic.net/common/?src=http%3A%2F%2Fcafefiles.naver.net%2F20120127_196%2Fehddbs8097_1327661473238fGffJ_jpg%2F%25C8%25AE%25B4%25EB3_1_ehddbs8097.jpg&amp;type=b400\" data-width=\"740\" onerror=\"var we=$Element(this); we.addClass('bg_nimg'); we.attr('alt','이미지준비중'); we.attr('src','data:image/gif;base64,R0lGODlhAQABAIAAAAAAAP///yH5BAEAAAAALAAAAAABAAEAAAIBRAA7');\" src=\"data:image/gif;base64,R0lGODlhAQABAIAAAAAAAP///yH5BAEAAAAALAAAAAABAAEAAAIBRAA7\"/>,\n",
       " <img alt=\"예쁜 사진^^ | 카페\" class=\"_img\" data-height=\"450\" data-source=\"https://search.pstatic.net/common/?src=http%3A%2F%2Fcafefiles.naver.net%2F20100620_2%2Fprettydara_1277030612398F9LpY_jpg%2F473189854_1269059255_prettydara.jpg&amp;type=b400\" data-width=\"600\" onerror=\"var we=$Element(this); we.addClass('bg_nimg'); we.attr('alt','이미지준비중'); we.attr('src','data:image/gif;base64,R0lGODlhAQABAIAAAAAAAP///yH5BAEAAAAALAAAAAABAAEAAAIBRAA7');\" src=\"data:image/gif;base64,R0lGODlhAQABAIAAAAAAAP///yH5BAEAAAAALAAAAAABAAEAAAIBRAA7\"/>,\n",
       " <img alt=\"강아지들~ | 카페\" class=\"_img\" data-height=\"320\" data-source=\"https://search.pstatic.net/common/?src=http%3A%2F%2Fcafefiles.naver.net%2Fdata21%2F2008%2F3%2F29%2F7%2F%25BE%25C6%25C1%25F62_kjh04069.gif&amp;type=b400\" data-width=\"500\" onerror=\"var we=$Element(this); we.addClass('bg_nimg'); we.attr('alt','이미지준비중'); we.attr('src','data:image/gif;base64,R0lGODlhAQABAIAAAAAAAP///yH5BAEAAAAALAAAAAABAAEAAAIBRAA7');\" src=\"data:image/gif;base64,R0lGODlhAQABAIAAAAAAAP///yH5BAEAAAAALAAAAAABAAEAAAIBRAA7\"/>,\n",
       " <img alt=\"강아쥐 | 블로그\" class=\"_img\" data-height=\"389\" data-source=\"https://search.pstatic.net/common/?src=http%3A%2F%2Fblogfiles.naver.net%2Fdata1%2F2004%2F5%2F25%2F69%2Frlaqhgod2001_6.jpg&amp;type=b400\" data-width=\"400\" onerror=\"var we=$Element(this); we.addClass('bg_nimg'); we.attr('alt','이미지준비중'); we.attr('src','data:image/gif;base64,R0lGODlhAQABAIAAAAAAAP///yH5BAEAAAAALAAAAAABAAEAAAIBRAA7');\" src=\"data:image/gif;base64,R0lGODlhAQABAIAAAAAAAP///yH5BAEAAAAALAAAAAABAAEAAAIBRAA7\"/>,\n",
       " <img alt=\"멍멍이 왈왈 -강아지 | 카페\" class=\"_img\" data-height=\"353\" data-source=\"https://search.pstatic.net/common/?src=http%3A%2F%2Fcafefiles.naver.net%2F20100408_237%2Foyehyun0123_1270726534485BsuIl_jpg%2F%25B0%25AD%25BE%25C6%25C1%25F6%25A4%25BE%25A4%25BE%25A4%25BE_oyehyun0123.jpg&amp;type=b400\" data-width=\"550\" onerror=\"var we=$Element(this); we.addClass('bg_nimg'); we.attr('alt','이미지준비중'); we.attr('src','data:image/gif;base64,R0lGODlhAQABAIAAAAAAAP///yH5BAEAAAAALAAAAAABAAEAAAIBRAA7');\" src=\"data:image/gif;base64,R0lGODlhAQABAIAAAAAAAP///yH5BAEAAAAALAAAAAABAAEAAAIBRAA7\"/>,\n",
       " <img alt=\"나도 멍멍이 키우고 싶당 | 블로그\" class=\"_img\" data-height=\"411\" data-source=\"https://search.pstatic.net/common/?src=http%3A%2F%2Fblogfiles.naver.net%2Fdata18%2F2007%2F4%2F27%2F48%2Fresult_2007_3_5_21_35_16_250_2-dalkygirl.jpg&amp;type=b400\" data-width=\"548\" onerror=\"var we=$Element(this); we.addClass('bg_nimg'); we.attr('alt','이미지준비중'); we.attr('src','data:image/gif;base64,R0lGODlhAQABAIAAAAAAAP///yH5BAEAAAAALAAAAAABAAEAAAIBRAA7');\" src=\"data:image/gif;base64,R0lGODlhAQABAIAAAAAAAP///yH5BAEAAAAALAAAAAABAAEAAAIBRAA7\"/>,\n",
       " <img alt=\"강아지 하우스★ | 블로그\" class=\"_img\" data-height=\"321\" data-source=\"https://search.pstatic.net/common/?src=http%3A%2F%2Fblogfiles.naver.net%2F20110213_178%2Fqqaaww7_129760126804956K1P_JPEG%2FB0ADC1E3B0ADC1E3_aza9770.jpg&amp;type=b400\" data-width=\"424\" onerror=\"var we=$Element(this); we.addClass('bg_nimg'); we.attr('alt','이미지준비중'); we.attr('src','data:image/gif;base64,R0lGODlhAQABAIAAAAAAAP///yH5BAEAAAAALAAAAAABAAEAAAIBRAA7');\" src=\"data:image/gif;base64,R0lGODlhAQABAIAAAAAAAP///yH5BAEAAAAALAAAAAABAAEAAAIBRAA7\"/>,\n",
       " <img alt=\"강아지 사진입니당.. | 카페\" class=\"_img\" data-height=\"313\" data-source=\"https://search.pstatic.net/common/?src=http%3A%2F%2Fcafefiles.naver.net%2Fdata36%2F2009%2F5%2F15%2F121%2F11_hjj592.jpg&amp;type=b400\" data-width=\"400\" onerror=\"var we=$Element(this); we.addClass('bg_nimg'); we.attr('alt','이미지준비중'); we.attr('src','data:image/gif;base64,R0lGODlhAQABAIAAAAAAAP///yH5BAEAAAAALAAAAAABAAEAAAIBRAA7');\" src=\"data:image/gif;base64,R0lGODlhAQABAIAAAAAAAP///yH5BAEAAAAALAAAAAABAAEAAAIBRAA7\"/>,\n",
       " <img alt=\"[SmartDrive_이슈사진] 유명한 인형같은 슈스케 강아지 !  | 블로그\" class=\"_img\" data-height=\"480\" data-source=\"https://search.pstatic.net/common/?src=http%3A%2F%2Fblogfiles.naver.net%2F20120330_280%2Fraonman12_13330926898558RlCo_JPEG%2Fnaver_com_20110927_172007.jpg&amp;type=b400\" data-width=\"400\" onerror=\"var we=$Element(this); we.addClass('bg_nimg'); we.attr('alt','이미지준비중'); we.attr('src','data:image/gif;base64,R0lGODlhAQABAIAAAAAAAP///yH5BAEAAAAALAAAAAABAAEAAAIBRAA7');\" src=\"data:image/gif;base64,R0lGODlhAQABAIAAAAAAAP///yH5BAEAAAAALAAAAAABAAEAAAIBRAA7\"/>,\n",
       " <img alt=\"두번째 강아지 | 블로그\" class=\"_img\" data-height=\"518\" data-source=\"https://search.pstatic.net/common/?src=http%3A%2F%2Fblogfiles.naver.net%2Fdata28%2F2007%2F10%2F23%2F272%2F%25B0%25AD%25BE%25C6%25C1%25F62_sds7736.jpg&amp;type=b400\" data-width=\"691\" onerror=\"var we=$Element(this); we.addClass('bg_nimg'); we.attr('alt','이미지준비중'); we.attr('src','data:image/gif;base64,R0lGODlhAQABAIAAAAAAAP///yH5BAEAAAAALAAAAAABAAEAAAIBRAA7');\" src=\"data:image/gif;base64,R0lGODlhAQABAIAAAAAAAP///yH5BAEAAAAALAAAAAABAAEAAAIBRAA7\"/>,\n",
       " <img alt=\"강아지가 당신을 사랑할 때.. | 포스트\" class=\"_img\" data-height=\"637\" data-source=\"https://search.pstatic.net/common/?src=http%3A%2F%2Fpost.phinf.naver.net%2F20160613_5%2F1465791563486TpftG_JPEG%2FIoaAUaalMmiwQvjSqSBLV3vru3Fs.jpg&amp;type=b400\" data-width=\"960\" onerror=\"var we=$Element(this); we.addClass('bg_nimg'); we.attr('alt','이미지준비중'); we.attr('src','data:image/gif;base64,R0lGODlhAQABAIAAAAAAAP///yH5BAEAAAAALAAAAAABAAEAAAIBRAA7');\" src=\"data:image/gif;base64,R0lGODlhAQABAIAAAAAAAP///yH5BAEAAAAALAAAAAABAAEAAAIBRAA7\"/>,\n",
       " <img alt=\"컴퓨터 작업 잘하시는 분들.. 강아지 캐릭터좀 만들수 있을까요?? | 지식iN\" class=\"_img\" data-height=\"180\" data-source=\"https://search.pstatic.net/common/?src=http%3A%2F%2Fkinimage.naver.net%2F20151001_117%2F1443704764049FnoYw_JPEG%2F%25B0%25AD%25BE%25C6%25C1%25F63.jpg&amp;type=b400\" data-width=\"270\" onerror=\"var we=$Element(this); we.addClass('bg_nimg'); we.attr('alt','이미지준비중'); we.attr('src','data:image/gif;base64,R0lGODlhAQABAIAAAAAAAP///yH5BAEAAAAALAAAAAABAAEAAAIBRAA7');\" src=\"data:image/gif;base64,R0lGODlhAQABAIAAAAAAAP///yH5BAEAAAAALAAAAAABAAEAAAIBRAA7\"/>,\n",
       " <img alt=\"티컵입니다~!! | 카페\" class=\"_img\" data-height=\"412\" data-source=\"https://search.pstatic.net/common/?src=http%3A%2F%2Fcafefiles.naver.net%2F20110718_20%2F0907dabin_131096085763259oIe_jpg%2F%25C6%25BC%25C4%25C52_0907dabin.jpg&amp;type=b400\" data-width=\"550\" onerror=\"var we=$Element(this); we.addClass('bg_nimg'); we.attr('alt','이미지준비중'); we.attr('src','data:image/gif;base64,R0lGODlhAQABAIAAAAAAAP///yH5BAEAAAAALAAAAAABAAEAAAIBRAA7');\" src=\"data:image/gif;base64,R0lGODlhAQABAIAAAAAAAP///yH5BAEAAAAALAAAAAABAAEAAAIBRAA7\"/>,\n",
       " <img alt=\"강아지 배변훈련  과 화장실훈련 | 블로그\" class=\"_img\" data-height=\"300\" data-source=\"https://search.pstatic.net/common/?src=http%3A%2F%2Fblogfiles.naver.net%2F20130307_221%2Fovcharka_no1_1362657892600UnxHH_JPEG%2F1.jpg&amp;type=b400\" data-width=\"448\" onerror=\"var we=$Element(this); we.addClass('bg_nimg'); we.attr('alt','이미지준비중'); we.attr('src','data:image/gif;base64,R0lGODlhAQABAIAAAAAAAP///yH5BAEAAAAALAAAAAABAAEAAAIBRAA7');\" src=\"data:image/gif;base64,R0lGODlhAQABAIAAAAAAAP///yH5BAEAAAAALAAAAAABAAEAAAIBRAA7\"/>,\n",
       " <img alt=\"강아지들~!!! | 카페\" class=\"_img\" data-height=\"240\" data-source=\"https://search.pstatic.net/common/?src=http%3A%2F%2Fcafefiles.naver.net%2F20110317_152%2Fchoiyun1521_13003168213716v7S1_jpg%2F%25B0%25AD%25BE%25C6%25C1%25F659_choiyun1521.jpg&amp;type=b400\" data-width=\"320\" onerror=\"var we=$Element(this); we.addClass('bg_nimg'); we.attr('alt','이미지준비중'); we.attr('src','data:image/gif;base64,R0lGODlhAQABAIAAAAAAAP///yH5BAEAAAAALAAAAAABAAEAAAIBRAA7');\" src=\"data:image/gif;base64,R0lGODlhAQABAIAAAAAAAP///yH5BAEAAAAALAAAAAABAAEAAAIBRAA7\"/>,\n",
       " <img alt=\"예쁜 강아지 모음/ 예쁜강쥐 모음/ 컵 강쥐 // | 블로그\" class=\"_img\" data-height=\"430\" data-source=\"https://search.pstatic.net/common/?src=http%3A%2F%2Fblogfiles.naver.net%2F20110423_147%2Fyeonmos_1303555952196CiNlI_JPEG%2Fewew3.jpg&amp;type=b400\" data-width=\"500\" onerror=\"var we=$Element(this); we.addClass('bg_nimg'); we.attr('alt','이미지준비중'); we.attr('src','data:image/gif;base64,R0lGODlhAQABAIAAAAAAAP///yH5BAEAAAAALAAAAAABAAEAAAIBRAA7');\" src=\"data:image/gif;base64,R0lGODlhAQABAIAAAAAAAP///yH5BAEAAAAALAAAAAABAAEAAAIBRAA7\"/>,\n",
       " <img alt=\"귀여운 강아지 사진 | 카페\" class=\"_img\" data-height=\"320\" data-source=\"https://search.pstatic.net/common/?src=http%3A%2F%2Fcafefiles.naver.net%2Fdata37%2F2009%2F2%2F12%2F287%2F%25B0%25AD%25BE%25C6%25C1%25F6_soar0000.jpg&amp;type=b400\" data-width=\"240\" onerror=\"var we=$Element(this); we.addClass('bg_nimg'); we.attr('alt','이미지준비중'); we.attr('src','data:image/gif;base64,R0lGODlhAQABAIAAAAAAAP///yH5BAEAAAAALAAAAAABAAEAAAIBRAA7');\" src=\"data:image/gif;base64,R0lGODlhAQABAIAAAAAAAP///yH5BAEAAAAALAAAAAABAAEAAAIBRAA7\"/>,\n",
       " <img alt=\"귀여운 강아지 사진♡ | 카페\" class=\"_img\" data-height=\"412\" data-source=\"https://search.pstatic.net/common/?src=http%3A%2F%2Fcafefiles.naver.net%2F20101205_110%2Fgpdnjs2744_1291515989689d5yOt_jpg%2F608134866_12902505481_gpdnjs2744.jpg&amp;type=b400\" data-width=\"550\" onerror=\"var we=$Element(this); we.addClass('bg_nimg'); we.attr('alt','이미지준비중'); we.attr('src','data:image/gif;base64,R0lGODlhAQABAIAAAAAAAP///yH5BAEAAAAALAAAAAABAAEAAAIBRAA7');\" src=\"data:image/gif;base64,R0lGODlhAQABAIAAAAAAAP///yH5BAEAAAAALAAAAAABAAEAAAIBRAA7\"/>,\n",
       " <img alt=\"체리민트님께서 입양하신 강아지입니다. | 카페\" class=\"_img\" data-height=\"768\" data-source=\"https://search.pstatic.net/common/?src=http%3A%2F%2Fcafefiles.naver.net%2Fdata22%2F2006%2F6%2F12%2F106%2F%25BA%25B8%25B8%25AE%2528%25B0%25AD%25BE%25C6%25C1%25F6%2529.jpg&amp;type=b400\" data-width=\"965\" onerror=\"var we=$Element(this); we.addClass('bg_nimg'); we.attr('alt','이미지준비중'); we.attr('src','data:image/gif;base64,R0lGODlhAQABAIAAAAAAAP///yH5BAEAAAAALAAAAAABAAEAAAIBRAA7');\" src=\"data:image/gif;base64,R0lGODlhAQABAIAAAAAAAP///yH5BAEAAAAALAAAAAABAAEAAAIBRAA7\"/>,\n",
       " <img alt=\"[재미있는 사진] 잠만보 강아지, 생크림 강아지 단체사진 | 블로그\" class=\"_img\" data-height=\"372\" data-source=\"https://search.pstatic.net/common/?src=http%3A%2F%2Fblogfiles.naver.net%2F20130521_206%2Fcyjsumin_1369063903959TplgX_JPEG%2F%25BB%25FD%25C5%25A9%25B8%25B2.JPG&amp;type=b400\" data-width=\"500\" onerror=\"var we=$Element(this); we.addClass('bg_nimg'); we.attr('alt','이미지준비중'); we.attr('src','data:image/gif;base64,R0lGODlhAQABAIAAAAAAAP///yH5BAEAAAAALAAAAAABAAEAAAIBRAA7');\" src=\"data:image/gif;base64,R0lGODlhAQABAIAAAAAAAP///yH5BAEAAAAALAAAAAABAAEAAAIBRAA7\"/>,\n",
       " <img alt=\"[강아지]강아지 항문낭 꽉~짜주세요  | 블로그\" class=\"_img\" data-height=\"426\" data-source=\"https://search.pstatic.net/common/?src=http%3A%2F%2Fblogfiles.naver.net%2F20100615_31%2Fibom123_1276586816828Bmq16_jpg%2F%25B0%25AD%25BE%25C6%25C1%25F62_ibom123.jpg&amp;type=b400\" data-width=\"444\" onerror=\"var we=$Element(this); we.addClass('bg_nimg'); we.attr('alt','이미지준비중'); we.attr('src','data:image/gif;base64,R0lGODlhAQABAIAAAAAAAP///yH5BAEAAAAALAAAAAABAAEAAAIBRAA7');\" src=\"data:image/gif;base64,R0lGODlhAQABAIAAAAAAAP///yH5BAEAAAAALAAAAAABAAEAAAIBRAA7\"/>,\n",
       " <img alt=\"[강아지이빨치료/강남동물병원] 강아지이빨치료 시기?! by.강남동물병원 | 블로그\" class=\"_img\" data-height=\"305\" data-source=\"https://search.pstatic.net/common/?src=http%3A%2F%2Fblogfiles.naver.net%2F20120105_16%2Fchungdamah_1325731691834EPcaf_JPEG%2F%25B0%25AD%25BE%25C6%25C1%25F6%25C0%25CC%25B0%25A5%25C0%25CC3.jpg&amp;type=b400\" data-width=\"493\" onerror=\"var we=$Element(this); we.addClass('bg_nimg'); we.attr('alt','이미지준비중'); we.attr('src','data:image/gif;base64,R0lGODlhAQABAIAAAAAAAP///yH5BAEAAAAALAAAAAABAAEAAAIBRAA7');\" src=\"data:image/gif;base64,R0lGODlhAQABAIAAAAAAAP///yH5BAEAAAAALAAAAAABAAEAAAIBRAA7\"/>,\n",
       " <img alt=\"[귀여운강아지] 귀여운강아지, 강아지 사료, 강아지 용품 사진! | 블로그\" class=\"_img\" data-height=\"277\" data-source=\"https://search.pstatic.net/common/?src=http%3A%2F%2Fblogfiles.naver.net%2F20111205_93%2Fkayden0111_1323077919509Nys7z_JPEG%2F%25B1%25CD%25BF%25A9%25BF%25EE%25B0%25AD%25BE%25C6%25C1%25F62.jpg&amp;type=b400\" data-width=\"420\" onerror=\"var we=$Element(this); we.addClass('bg_nimg'); we.attr('alt','이미지준비중'); we.attr('src','data:image/gif;base64,R0lGODlhAQABAIAAAAAAAP///yH5BAEAAAAALAAAAAABAAEAAAIBRAA7');\" src=\"data:image/gif;base64,R0lGODlhAQABAIAAAAAAAP///yH5BAEAAAAALAAAAAABAAEAAAIBRAA7\"/>,\n",
       " <img alt=\"강아지 사진 | 블로그\" class=\"_img\" data-height=\"412\" data-source=\"https://search.pstatic.net/common/?src=http%3A%2F%2Fblogfiles.naver.net%2F20130515_179%2Fa9636936_1368589217817E40IF_JPEG%2F%25B0%25AD%25BE%25C6%25C1%25F61.jpg&amp;type=b400\" data-width=\"550\" onerror=\"var we=$Element(this); we.addClass('bg_nimg'); we.attr('alt','이미지준비중'); we.attr('src','data:image/gif;base64,R0lGODlhAQABAIAAAAAAAP///yH5BAEAAAAALAAAAAABAAEAAAIBRAA7');\" src=\"data:image/gif;base64,R0lGODlhAQABAIAAAAAAAP///yH5BAEAAAAALAAAAAABAAEAAAIBRAA7\"/>,\n",
       " <img alt=\"인천강아지분양 / 부평강아지분양 / 겨울철 강아지 관리 TIP | 포스트\" class=\"_img\" data-height=\"375\" data-source=\"https://search.pstatic.net/common/?src=http%3A%2F%2Fpost.phinf.naver.net%2FMjAxNjEyMThfMjE3%2FMDAxNDgyMDM3Nzc1NjIy.SHqYrXWKumxiBKKGUbMzetEw1i4EVxhkCBIE7cGUsCcg.Jeo0XReeGWH4wRQ5avfNyCX0X3zCfFCV1b3kk5FJmfUg.JPEG%2FIMYlrsQs85gHgMhhiIXM-uanFyfY.jpg&amp;type=b400\" data-width=\"600\" onerror=\"var we=$Element(this); we.addClass('bg_nimg'); we.attr('alt','이미지준비중'); we.attr('src','data:image/gif;base64,R0lGODlhAQABAIAAAAAAAP///yH5BAEAAAAALAAAAAABAAEAAAIBRAA7');\" src=\"data:image/gif;base64,R0lGODlhAQABAIAAAAAAAP///yH5BAEAAAAALAAAAAABAAEAAAIBRAA7\"/>,\n",
       " <img alt=\"[강아지사진 ] 강아지,개사진모음2 | 블로그\" class=\"_img\" data-height=\"440\" data-source=\"https://search.pstatic.net/common/?src=http%3A%2F%2Fblogfiles.naver.net%2F20130627_74%2Fqna9386_1372313742793Uh1vw_JPEG%2F%25B0%25AD%25BE%25C6%25C1%25F699.jpg&amp;type=b400\" data-width=\"550\" onerror=\"var we=$Element(this); we.addClass('bg_nimg'); we.attr('alt','이미지준비중'); we.attr('src','data:image/gif;base64,R0lGODlhAQABAIAAAAAAAP///yH5BAEAAAAALAAAAAABAAEAAAIBRAA7');\" src=\"data:image/gif;base64,R0lGODlhAQABAIAAAAAAAP///yH5BAEAAAAALAAAAAABAAEAAAIBRAA7\"/>,\n",
       " <img alt=\"강아지♡ | 블로그\" class=\"_img\" data-height=\"360\" data-source=\"https://search.pstatic.net/common/?src=http%3A%2F%2Fblogfiles.naver.net%2Fdata20%2F2006%2F7%2F10%2F10%2F%25B0%25AD%25BE%25C6%25C1%25F6-hmds2103.jpg&amp;type=b400\" data-width=\"480\" onerror=\"var we=$Element(this); we.addClass('bg_nimg'); we.attr('alt','이미지준비중'); we.attr('src','data:image/gif;base64,R0lGODlhAQABAIAAAAAAAP///yH5BAEAAAAALAAAAAABAAEAAAIBRAA7');\" src=\"data:image/gif;base64,R0lGODlhAQABAIAAAAAAAP///yH5BAEAAAAALAAAAAABAAEAAAIBRAA7\"/>,\n",
       " <img alt=\"강아지의 1년뒤 사진... | 카페\" class=\"_img\" data-height=\"1321\" data-source=\"https://search.pstatic.net/common/?src=http%3A%2F%2Fcafefiles.naver.net%2F20120906_125%2Fsosiega_1346907805438dC1VN_JPEG%2F%25B0%25AD%25BE%25C6%25C1%25F6%25C0%25C7_1%25B3%25E2%25B5%25DA_%25B8%25F0%25BD%25C0.jpg&amp;type=b400\" data-width=\"476\" onerror=\"var we=$Element(this); we.addClass('bg_nimg'); we.attr('alt','이미지준비중'); we.attr('src','data:image/gif;base64,R0lGODlhAQABAIAAAAAAAP///yH5BAEAAAAALAAAAAABAAEAAAIBRAA7');\" src=\"data:image/gif;base64,R0lGODlhAQABAIAAAAAAAP///yH5BAEAAAAALAAAAAABAAEAAAIBRAA7\"/>,\n",
       " <img alt=\"헤르미온느 강아지 | 블로그\" class=\"_img\" data-height=\"415\" data-source=\"https://search.pstatic.net/common/?src=http%3A%2F%2Fblogfiles.naver.net%2F20111102_56%2Fdkssk0903_1320242484319Ws8Pz_JPEG%2F%25C7%25EC%25B8%25A3%25B9%25CC%25BF%25C2%25B4%25C0%25B0%25AD%25BE%25C6%25C1%25F6_%25286%2529.jpg&amp;type=b400\" data-width=\"400\" onerror=\"var we=$Element(this); we.addClass('bg_nimg'); we.attr('alt','이미지준비중'); we.attr('src','data:image/gif;base64,R0lGODlhAQABAIAAAAAAAP///yH5BAEAAAAALAAAAAABAAEAAAIBRAA7');\" src=\"data:image/gif;base64,R0lGODlhAQABAIAAAAAAAP///yH5BAEAAAAALAAAAAABAAEAAAIBRAA7\"/>,\n",
       " <img alt=\"울집 강아지 민이 | 카페\" class=\"_img\" data-height=\"352\" data-source=\"https://search.pstatic.net/common/?src=http%3A%2F%2Fcafefiles.naver.net%2Fdata3%2F2004%2F6%2F12%2F284%2F%25B0%25AD%25BE%25C6%25C1%25F61.jpg&amp;type=b400\" data-width=\"400\" onerror=\"var we=$Element(this); we.addClass('bg_nimg'); we.attr('alt','이미지준비중'); we.attr('src','data:image/gif;base64,R0lGODlhAQABAIAAAAAAAP///yH5BAEAAAAALAAAAAABAAEAAAIBRAA7');\" src=\"data:image/gif;base64,R0lGODlhAQABAIAAAAAAAP///yH5BAEAAAAALAAAAAABAAEAAAIBRAA7\"/>,\n",
       " <img alt=\"여러강아지4 | 카페\" class=\"_img\" data-height=\"607\" data-source=\"https://search.pstatic.net/common/?src=http%3A%2F%2Fcafefiles.naver.net%2F20121130_270%2Fgongiu1004_1354279975775LoYlx_PNG%2F%25BF%25A9%25B7%25AF%25B0%25AD%25BE%25C6%25C1%25F64.png&amp;type=b400\" data-width=\"545\" onerror=\"var we=$Element(this); we.addClass('bg_nimg'); we.attr('alt','이미지준비중'); we.attr('src','data:image/gif;base64,R0lGODlhAQABAIAAAAAAAP///yH5BAEAAAAALAAAAAABAAEAAAIBRAA7');\" src=\"data:image/gif;base64,R0lGODlhAQABAIAAAAAAAP///yH5BAEAAAAALAAAAAABAAEAAAIBRAA7\"/>,\n",
       " <img alt=\"하얀강아지 | 카페\" class=\"_img\" data-height=\"289\" data-source=\"https://search.pstatic.net/common/?src=http%3A%2F%2Fcafefiles.naver.net%2F20091222_256%2Fanne0921y_1261453753521GYKOE_png%2Fbbe7bfebc0da_c1f6c1a4_3_dlekdus1108_khsj4_anne0921y.png&amp;type=b400\" data-width=\"393\" onerror=\"var we=$Element(this); we.addClass('bg_nimg'); we.attr('alt','이미지준비중'); we.attr('src','data:image/gif;base64,R0lGODlhAQABAIAAAAAAAP///yH5BAEAAAAALAAAAAABAAEAAAIBRAA7');\" src=\"data:image/gif;base64,R0lGODlhAQABAIAAAAAAAP///yH5BAEAAAAALAAAAAABAAEAAAIBRAA7\"/>,\n",
       " <img alt=\"티컵분양 티컵강아지 | 블로그\" class=\"_img\" data-height=\"478\" data-source=\"https://search.pstatic.net/common/?src=http%3A%2F%2Fblogfiles.naver.net%2F20110720_18%2Fmu8vvp8j_1311165663457EyAHz_JPEG%2F2.jpg&amp;type=b400\" data-width=\"692\" onerror=\"var we=$Element(this); we.addClass('bg_nimg'); we.attr('alt','이미지준비중'); we.attr('src','data:image/gif;base64,R0lGODlhAQABAIAAAAAAAP///yH5BAEAAAAALAAAAAABAAEAAAIBRAA7');\" src=\"data:image/gif;base64,R0lGODlhAQABAIAAAAAAAP///yH5BAEAAAAALAAAAAABAAEAAAIBRAA7\"/>,\n",
       " <img alt=\"[강아지 영양] 소중한 나의 강아지 필요한 영양은 무엇일까?  | 블로그\" class=\"_img\" data-height=\"300\" data-source=\"https://search.pstatic.net/common/?src=http%3A%2F%2Fblogfiles.naver.net%2F20100831_128%2Fbasic0360_1283213717442waItn_jpg%2F2010-08-31_09%253B13%253B42_basic0360.jpg&amp;type=b400\" data-width=\"400\" onerror=\"var we=$Element(this); we.addClass('bg_nimg'); we.attr('alt','이미지준비중'); we.attr('src','data:image/gif;base64,R0lGODlhAQABAIAAAAAAAP///yH5BAEAAAAALAAAAAABAAEAAAIBRAA7');\" src=\"data:image/gif;base64,R0lGODlhAQABAIAAAAAAAP///yH5BAEAAAAALAAAAAABAAEAAAIBRAA7\"/>,\n",
       " <img alt=\"* 강아지 상식 - 강아지 다이어트 방법 * 강아지 비만 * 강아지 다이어트 사료 * (2탄) | 블로그\" class=\"_img\" data-height=\"621\" data-source=\"https://search.pstatic.net/common/?src=http%3A%2F%2Fblogfiles.naver.net%2F20131009_55%2Fwonder_dog_1381314924385t9EJu_JPEG%2F%25B0%25AD%25BE%25C6%25C1%25F6%25B4%25D9%25C0%25CC%25BE%25EE%25C6%25AE%25BB%25E7%25B7%25E1_%25B0%25AD%25BE%25C6%25C1%25F6%25BB%25F3%25BD%25C4_%25BA%25F1%25B8%25B8%25B0%25AD%25BE%25C6%25C1%25F6_%25B0%25AD%25BE%25C6%25C1%25F6%25B4%25D9%25C0%25CC%25BE%25EE%25C6%25AE%25B9%25E6%25B9%25FD_2.jpg&amp;type=b400\" data-width=\"416\" onerror=\"var we=$Element(this); we.addClass('bg_nimg'); we.attr('alt','이미지준비중'); we.attr('src','data:image/gif;base64,R0lGODlhAQABAIAAAAAAAP///yH5BAEAAAAALAAAAAABAAEAAAIBRAA7');\" src=\"data:image/gif;base64,R0lGODlhAQABAIAAAAAAAP///yH5BAEAAAAALAAAAAABAAEAAAIBRAA7\"/>,\n",
       " <img alt='세상에서 가장 작은 강아지 눈길 \"티컵보다 작아요\" | 포토뉴스' class=\"_img\" data-height=\"376\" data-source=\"https://search.pstatic.net/common/?src=http%3A%2F%2Fimgnews.naver.net%2Fimage%2F073%2F2009%2F04%2F06%2F20090406_111654681955_0.jpg&amp;type=b400\" data-width=\"450\" onerror=\"var we=$Element(this); we.addClass('bg_nimg'); we.attr('alt','이미지준비중'); we.attr('src','data:image/gif;base64,R0lGODlhAQABAIAAAAAAAP///yH5BAEAAAAALAAAAAABAAEAAAIBRAA7');\" src=\"data:image/gif;base64,R0lGODlhAQABAIAAAAAAAP///yH5BAEAAAAALAAAAAABAAEAAAIBRAA7\"/>,\n",
       " <img alt=\"흰털 강아지, 귀여운 강아지, 애기강아지,T컵강아지,마르티스 | 카페\" class=\"_img\" data-height=\"296\" data-source=\"https://search.pstatic.net/common/?src=http%3A%2F%2Fcafefiles.naver.net%2F20110403_102%2Fsdf8312_1301822905590hst3H_jpg%2Fkl_sdf8312.jpg&amp;type=b400\" data-width=\"373\" onerror=\"var we=$Element(this); we.addClass('bg_nimg'); we.attr('alt','이미지준비중'); we.attr('src','data:image/gif;base64,R0lGODlhAQABAIAAAAAAAP///yH5BAEAAAAALAAAAAABAAEAAAIBRAA7');\" src=\"data:image/gif;base64,R0lGODlhAQABAIAAAAAAAP///yH5BAEAAAAALAAAAAABAAEAAAIBRAA7\"/>]"
      ]
     },
     "execution_count": 5,
     "metadata": {},
     "output_type": "execute_result"
    }
   ],
   "source": [
    "soup = bs(html, \"html.parser\")\n",
    "img = soup.find_all(class_='_img')\n",
    "img"
   ]
  },
  {
   "cell_type": "code",
   "execution_count": 6,
   "metadata": {},
   "outputs": [
    {
     "name": "stdout",
     "output_type": "stream",
     "text": [
      "1\n",
      "2\n",
      "3\n",
      "4\n",
      "5\n",
      "6\n",
      "7\n",
      "8\n",
      "9\n",
      "10\n",
      "11\n",
      "12\n",
      "13\n",
      "14\n",
      "15\n",
      "16\n",
      "17\n",
      "18\n",
      "19\n",
      "20\n",
      "21\n",
      "22\n",
      "23\n",
      "24\n",
      "25\n",
      "26\n",
      "27\n",
      "28\n",
      "29\n",
      "30\n",
      "31\n",
      "32\n",
      "33\n",
      "34\n",
      "35\n",
      "36\n",
      "37\n",
      "38\n",
      "39\n",
      "40\n",
      "41\n",
      "42\n",
      "43\n",
      "44\n",
      "45\n",
      "46\n",
      "47\n",
      "48\n",
      "49\n",
      "50\n",
      "이미지 크롤링 완성\n"
     ]
    }
   ],
   "source": [
    "n = 1\n",
    "for i in img :\n",
    "    print(n)\n",
    "    imgurl = i['data-source']\n",
    "    with urlopen(imgurl) as f  :\n",
    "        with open('./img/img'+str(n)+'.png','wb') as h:\n",
    "            img = f.read()\n",
    "            h.write(img)\n",
    "        n += 1\n",
    "        if n>num :\n",
    "            break;\n",
    "print(\"이미지 크롤링 완성\")"
   ]
  }
 ],
 "metadata": {
  "kernelspec": {
   "display_name": "Python 3",
   "language": "python",
   "name": "python3"
  },
  "language_info": {
   "codemirror_mode": {
    "name": "ipython",
    "version": 3
   },
   "file_extension": ".py",
   "mimetype": "text/x-python",
   "name": "python",
   "nbconvert_exporter": "python",
   "pygments_lexer": "ipython3",
   "version": "3.7.4"
  }
 },
 "nbformat": 4,
 "nbformat_minor": 2
}
