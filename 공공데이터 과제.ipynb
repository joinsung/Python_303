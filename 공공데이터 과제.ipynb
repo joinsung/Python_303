{
 "cells": [
  {
   "cell_type": "code",
   "execution_count": 5,
   "metadata": {},
   "outputs": [],
   "source": [
    "import pandas as pd"
   ]
  },
  {
   "cell_type": "code",
   "execution_count": 9,
   "metadata": {},
   "outputs": [],
   "source": [
    "path=r'C:\\Users\\user\\Desktop\\123\\data.csv'\n",
    "df=pd.read_csv(path,encoding='cp949')"
   ]
  },
  {
   "cell_type": "code",
   "execution_count": 10,
   "metadata": {},
   "outputs": [
    {
     "data": {
      "text/html": [
       "<div>\n",
       "<style scoped>\n",
       "    .dataframe tbody tr th:only-of-type {\n",
       "        vertical-align: middle;\n",
       "    }\n",
       "\n",
       "    .dataframe tbody tr th {\n",
       "        vertical-align: top;\n",
       "    }\n",
       "\n",
       "    .dataframe thead th {\n",
       "        text-align: right;\n",
       "    }\n",
       "</style>\n",
       "<table border=\"1\" class=\"dataframe\">\n",
       "  <thead>\n",
       "    <tr style=\"text-align: right;\">\n",
       "      <th></th>\n",
       "      <th>no</th>\n",
       "      <th>구분</th>\n",
       "      <th>작물정보</th>\n",
       "      <th>효능·효과</th>\n",
       "      <th>요리조리복용법</th>\n",
       "    </tr>\n",
       "  </thead>\n",
       "  <tbody>\n",
       "    <tr>\n",
       "      <td>0</td>\n",
       "      <td>1</td>\n",
       "      <td>염증제거</td>\n",
       "      <td>마늘</td>\n",
       "      <td>○ 항산화 성분이 풍부해서 면역력을 높여주고 항암작용을 함 - 몸속의 독소를 배출하...</td>\n",
       "      <td>○ 마늘 부르스케타 - 재료 : 햇마늘 2통, 바게트 빵 3조각, 올리브유 2T, ...</td>\n",
       "    </tr>\n",
       "    <tr>\n",
       "      <td>1</td>\n",
       "      <td>2</td>\n",
       "      <td>호흡기계 감염 예방</td>\n",
       "      <td>도라지</td>\n",
       "      <td>○ 도라지의 사포닌은 기침, 가래, 염증을 완화시켜주고, 기관지 및 호흡기 건강에 ...</td>\n",
       "      <td>○ 도라지 맛탕 - 재료 : 도라지 7개, 식용유 2컵, 찹쌀가루 1/2컵, 소금 ...</td>\n",
       "    </tr>\n",
       "    <tr>\n",
       "      <td>2</td>\n",
       "      <td>3</td>\n",
       "      <td>호흡기계 감염 예방</td>\n",
       "      <td>도라지</td>\n",
       "      <td>○ 도라지의 사포닌은 기침, 가래, 염증을 완화시켜주고, 기관지 및 호흡기 건강에 ...</td>\n",
       "      <td>○ 도라지탕 불고기  - 재료 : 도라지 3개, 볶음용 소고기 180g, 당근 1/...</td>\n",
       "    </tr>\n",
       "    <tr>\n",
       "      <td>3</td>\n",
       "      <td>4</td>\n",
       "      <td>면역력 증진</td>\n",
       "      <td>삼채</td>\n",
       "      <td>○ 국산 삼채는 수입산보다 필수 아미노산, 식이 황 및 사포닌의 함량이 많음. - ...</td>\n",
       "      <td>○ 삼채 김치찌개 - 재료 : 삼채 뿌리 30g, 배추김치 1/2포기, 돼지고기 1...</td>\n",
       "    </tr>\n",
       "    <tr>\n",
       "      <td>4</td>\n",
       "      <td>5</td>\n",
       "      <td>면역력 증진</td>\n",
       "      <td>달래</td>\n",
       "      <td>○ 면역력을 높여주는 비타민 A, 신경계를 안정시키며 스트레스를 풀어주는 비타민 B...</td>\n",
       "      <td>○ 돼지고기 달래 샐러드 - 재료 : 달래 32g, 봄동 5장, 돼지고기 볶음용 1...</td>\n",
       "    </tr>\n",
       "  </tbody>\n",
       "</table>\n",
       "</div>"
      ],
      "text/plain": [
       "   no          구분 작물정보                                              효능·효과  \\\n",
       "0   1        염증제거   마늘  ○ 항산화 성분이 풍부해서 면역력을 높여주고 항암작용을 함 - 몸속의 독소를 배출하...   \n",
       "1   2  호흡기계 감염 예방  도라지  ○ 도라지의 사포닌은 기침, 가래, 염증을 완화시켜주고, 기관지 및 호흡기 건강에 ...   \n",
       "2   3  호흡기계 감염 예방  도라지  ○ 도라지의 사포닌은 기침, 가래, 염증을 완화시켜주고, 기관지 및 호흡기 건강에 ...   \n",
       "3   4     면역력 증진    삼채  ○ 국산 삼채는 수입산보다 필수 아미노산, 식이 황 및 사포닌의 함량이 많음. - ...   \n",
       "4   5     면역력 증진    달래  ○ 면역력을 높여주는 비타민 A, 신경계를 안정시키며 스트레스를 풀어주는 비타민 B...   \n",
       "\n",
       "                                             요리조리복용법  \n",
       "0  ○ 마늘 부르스케타 - 재료 : 햇마늘 2통, 바게트 빵 3조각, 올리브유 2T, ...  \n",
       "1  ○ 도라지 맛탕 - 재료 : 도라지 7개, 식용유 2컵, 찹쌀가루 1/2컵, 소금 ...  \n",
       "2  ○ 도라지탕 불고기  - 재료 : 도라지 3개, 볶음용 소고기 180g, 당근 1/...  \n",
       "3  ○ 삼채 김치찌개 - 재료 : 삼채 뿌리 30g, 배추김치 1/2포기, 돼지고기 1...  \n",
       "4  ○ 돼지고기 달래 샐러드 - 재료 : 달래 32g, 봄동 5장, 돼지고기 볶음용 1...  "
      ]
     },
     "execution_count": 10,
     "metadata": {},
     "output_type": "execute_result"
    }
   ],
   "source": [
    "df.head()"
   ]
  },
  {
   "cell_type": "code",
   "execution_count": 12,
   "metadata": {},
   "outputs": [
    {
     "data": {
      "text/html": [
       "<div>\n",
       "<style scoped>\n",
       "    .dataframe tbody tr th:only-of-type {\n",
       "        vertical-align: middle;\n",
       "    }\n",
       "\n",
       "    .dataframe tbody tr th {\n",
       "        vertical-align: top;\n",
       "    }\n",
       "\n",
       "    .dataframe thead th {\n",
       "        text-align: right;\n",
       "    }\n",
       "</style>\n",
       "<table border=\"1\" class=\"dataframe\">\n",
       "  <thead>\n",
       "    <tr style=\"text-align: right;\">\n",
       "      <th></th>\n",
       "      <th>no</th>\n",
       "      <th>구분</th>\n",
       "      <th>작물정보</th>\n",
       "      <th>효능·효과</th>\n",
       "      <th>요리조리복용법</th>\n",
       "    </tr>\n",
       "  </thead>\n",
       "  <tbody>\n",
       "    <tr>\n",
       "      <td>6</td>\n",
       "      <td>7</td>\n",
       "      <td>면역력 증진</td>\n",
       "      <td>미나리</td>\n",
       "      <td>○ 자연살해세포의 활성을 높여 면역력 강화 효과를 보임 - 칼륨이 많이 함유되어 있...</td>\n",
       "      <td>○ 미나리 덮밥 - 재료 : 차돌박이 280g, 미나리 80g, 현미밥 2공기, 양...</td>\n",
       "    </tr>\n",
       "    <tr>\n",
       "      <td>7</td>\n",
       "      <td>8</td>\n",
       "      <td>감기치료</td>\n",
       "      <td>산마늘</td>\n",
       "      <td>○ 무기질과 비타민 함량이 많고, 이뇨, 해독, 동맥경화 및 소화 개선 효과 - 비...</td>\n",
       "      <td>○ 산마늘 주먹밥 - 재료 : 산마늘 잎 20장, 불고기 600g, 밥 2공기, 참...</td>\n",
       "    </tr>\n",
       "    <tr>\n",
       "      <td>8</td>\n",
       "      <td>9</td>\n",
       "      <td>혈액순환</td>\n",
       "      <td>냉이</td>\n",
       "      <td>○ 아르기닌, 프롤린, 메티오닌 등 아미노산이 풍부하며, 특히 프롤린은 스트레스 해...</td>\n",
       "      <td>○ 냉이무침 - 재료 : 냉이 200g, 통깨 1/2T - 양념장 : 고추장 2T,...</td>\n",
       "    </tr>\n",
       "    <tr>\n",
       "      <td>9</td>\n",
       "      <td>10</td>\n",
       "      <td>면역력 증진</td>\n",
       "      <td>토마토</td>\n",
       "      <td>○ 면역세포의 증식 및 항체 생산의 증가를 통해 면역력 증진 - 토마토에는 라이코펜...</td>\n",
       "      <td>○ 토마토밥브리토 - 재료 : 양파 ¼개, 햄 60g, 통조림 옥수수 2T, 쌀밥 ...</td>\n",
       "    </tr>\n",
       "    <tr>\n",
       "      <td>10</td>\n",
       "      <td>11</td>\n",
       "      <td>면역력 증진</td>\n",
       "      <td>생강</td>\n",
       "      <td>○ 면역세포의 증식과 복강 대식세포에 의한 사이토카인 분비능력을 상승시켜 면역 기관...</td>\n",
       "      <td>○ 생강초절임 - 재료 : 생강 500g, 비트 30g (1.2ℓ 분량)절임물 재료...</td>\n",
       "    </tr>\n",
       "  </tbody>\n",
       "</table>\n",
       "</div>"
      ],
      "text/plain": [
       "    no       구분 작물정보                                              효능·효과  \\\n",
       "6    7  면역력 증진   미나리  ○ 자연살해세포의 활성을 높여 면역력 강화 효과를 보임 - 칼륨이 많이 함유되어 있...   \n",
       "7    8     감기치료  산마늘  ○ 무기질과 비타민 함량이 많고, 이뇨, 해독, 동맥경화 및 소화 개선 효과 - 비...   \n",
       "8    9     혈액순환   냉이  ○ 아르기닌, 프롤린, 메티오닌 등 아미노산이 풍부하며, 특히 프롤린은 스트레스 해...   \n",
       "9   10  면역력 증진   토마토  ○ 면역세포의 증식 및 항체 생산의 증가를 통해 면역력 증진 - 토마토에는 라이코펜...   \n",
       "10  11  면역력 증진    생강  ○ 면역세포의 증식과 복강 대식세포에 의한 사이토카인 분비능력을 상승시켜 면역 기관...   \n",
       "\n",
       "                                              요리조리복용법  \n",
       "6   ○ 미나리 덮밥 - 재료 : 차돌박이 280g, 미나리 80g, 현미밥 2공기, 양...  \n",
       "7   ○ 산마늘 주먹밥 - 재료 : 산마늘 잎 20장, 불고기 600g, 밥 2공기, 참...  \n",
       "8   ○ 냉이무침 - 재료 : 냉이 200g, 통깨 1/2T - 양념장 : 고추장 2T,...  \n",
       "9   ○ 토마토밥브리토 - 재료 : 양파 ¼개, 햄 60g, 통조림 옥수수 2T, 쌀밥 ...  \n",
       "10  ○ 생강초절임 - 재료 : 생강 500g, 비트 30g (1.2ℓ 분량)절임물 재료...  "
      ]
     },
     "execution_count": 12,
     "metadata": {},
     "output_type": "execute_result"
    }
   ],
   "source": [
    "df.tail()"
   ]
  },
  {
   "cell_type": "code",
   "execution_count": 14,
   "metadata": {},
   "outputs": [
    {
     "name": "stdout",
     "output_type": "stream",
     "text": [
      "<class 'pandas.core.frame.DataFrame'>\n",
      "RangeIndex: 11 entries, 0 to 10\n",
      "Data columns (total 5 columns):\n",
      "no         11 non-null int64\n",
      "구분         11 non-null object\n",
      "작물정보       11 non-null object\n",
      "효능·효과      11 non-null object\n",
      "요리조리복용법    11 non-null object\n",
      "dtypes: int64(1), object(4)\n",
      "memory usage: 568.0+ bytes\n"
     ]
    }
   ],
   "source": [
    "df.info()"
   ]
  },
  {
   "cell_type": "code",
   "execution_count": 15,
   "metadata": {},
   "outputs": [
    {
     "data": {
      "text/plain": [
       "(11, 5)"
      ]
     },
     "execution_count": 15,
     "metadata": {},
     "output_type": "execute_result"
    }
   ],
   "source": [
    "df.shape"
   ]
  },
  {
   "cell_type": "code",
   "execution_count": 16,
   "metadata": {},
   "outputs": [
    {
     "data": {
      "text/html": [
       "<div>\n",
       "<style scoped>\n",
       "    .dataframe tbody tr th:only-of-type {\n",
       "        vertical-align: middle;\n",
       "    }\n",
       "\n",
       "    .dataframe tbody tr th {\n",
       "        vertical-align: top;\n",
       "    }\n",
       "\n",
       "    .dataframe thead th {\n",
       "        text-align: right;\n",
       "    }\n",
       "</style>\n",
       "<table border=\"1\" class=\"dataframe\">\n",
       "  <thead>\n",
       "    <tr style=\"text-align: right;\">\n",
       "      <th></th>\n",
       "      <th>no</th>\n",
       "      <th>구분</th>\n",
       "      <th>작물정보</th>\n",
       "      <th>효능·효과</th>\n",
       "      <th>요리조리복용법</th>\n",
       "    </tr>\n",
       "  </thead>\n",
       "  <tbody>\n",
       "    <tr>\n",
       "      <td>0</td>\n",
       "      <td>False</td>\n",
       "      <td>False</td>\n",
       "      <td>False</td>\n",
       "      <td>False</td>\n",
       "      <td>False</td>\n",
       "    </tr>\n",
       "    <tr>\n",
       "      <td>1</td>\n",
       "      <td>False</td>\n",
       "      <td>False</td>\n",
       "      <td>False</td>\n",
       "      <td>False</td>\n",
       "      <td>False</td>\n",
       "    </tr>\n",
       "    <tr>\n",
       "      <td>2</td>\n",
       "      <td>False</td>\n",
       "      <td>False</td>\n",
       "      <td>False</td>\n",
       "      <td>False</td>\n",
       "      <td>False</td>\n",
       "    </tr>\n",
       "    <tr>\n",
       "      <td>3</td>\n",
       "      <td>False</td>\n",
       "      <td>False</td>\n",
       "      <td>False</td>\n",
       "      <td>False</td>\n",
       "      <td>False</td>\n",
       "    </tr>\n",
       "    <tr>\n",
       "      <td>4</td>\n",
       "      <td>False</td>\n",
       "      <td>False</td>\n",
       "      <td>False</td>\n",
       "      <td>False</td>\n",
       "      <td>False</td>\n",
       "    </tr>\n",
       "    <tr>\n",
       "      <td>5</td>\n",
       "      <td>False</td>\n",
       "      <td>False</td>\n",
       "      <td>False</td>\n",
       "      <td>False</td>\n",
       "      <td>False</td>\n",
       "    </tr>\n",
       "    <tr>\n",
       "      <td>6</td>\n",
       "      <td>False</td>\n",
       "      <td>False</td>\n",
       "      <td>False</td>\n",
       "      <td>False</td>\n",
       "      <td>False</td>\n",
       "    </tr>\n",
       "    <tr>\n",
       "      <td>7</td>\n",
       "      <td>False</td>\n",
       "      <td>False</td>\n",
       "      <td>False</td>\n",
       "      <td>False</td>\n",
       "      <td>False</td>\n",
       "    </tr>\n",
       "    <tr>\n",
       "      <td>8</td>\n",
       "      <td>False</td>\n",
       "      <td>False</td>\n",
       "      <td>False</td>\n",
       "      <td>False</td>\n",
       "      <td>False</td>\n",
       "    </tr>\n",
       "    <tr>\n",
       "      <td>9</td>\n",
       "      <td>False</td>\n",
       "      <td>False</td>\n",
       "      <td>False</td>\n",
       "      <td>False</td>\n",
       "      <td>False</td>\n",
       "    </tr>\n",
       "    <tr>\n",
       "      <td>10</td>\n",
       "      <td>False</td>\n",
       "      <td>False</td>\n",
       "      <td>False</td>\n",
       "      <td>False</td>\n",
       "      <td>False</td>\n",
       "    </tr>\n",
       "  </tbody>\n",
       "</table>\n",
       "</div>"
      ],
      "text/plain": [
       "       no     구분   작물정보  효능·효과  요리조리복용법\n",
       "0   False  False  False  False    False\n",
       "1   False  False  False  False    False\n",
       "2   False  False  False  False    False\n",
       "3   False  False  False  False    False\n",
       "4   False  False  False  False    False\n",
       "5   False  False  False  False    False\n",
       "6   False  False  False  False    False\n",
       "7   False  False  False  False    False\n",
       "8   False  False  False  False    False\n",
       "9   False  False  False  False    False\n",
       "10  False  False  False  False    False"
      ]
     },
     "execution_count": 16,
     "metadata": {},
     "output_type": "execute_result"
    }
   ],
   "source": [
    "df.isnull()"
   ]
  },
  {
   "cell_type": "code",
   "execution_count": 18,
   "metadata": {},
   "outputs": [
    {
     "data": {
      "text/plain": [
       "no         0\n",
       "구분         0\n",
       "작물정보       0\n",
       "효능·효과      0\n",
       "요리조리복용법    0\n",
       "dtype: int64"
      ]
     },
     "execution_count": 18,
     "metadata": {},
     "output_type": "execute_result"
    }
   ],
   "source": [
    "df.isnull().sum()"
   ]
  },
  {
   "cell_type": "code",
   "execution_count": 20,
   "metadata": {},
   "outputs": [
    {
     "data": {
      "text/plain": [
       "0     ○ 항산화 성분이 풍부해서 면역력을 높여주고 항암작용을 함 - 몸속의 독소를 배출하...\n",
       "1     ○ 도라지의 사포닌은 기침, 가래, 염증을 완화시켜주고, 기관지 및 호흡기 건강에 ...\n",
       "2     ○ 도라지의 사포닌은 기침, 가래, 염증을 완화시켜주고, 기관지 및 호흡기 건강에 ...\n",
       "3     ○ 국산 삼채는 수입산보다 필수 아미노산, 식이 황 및 사포닌의 함량이 많음. - ...\n",
       "4     ○ 면역력을 높여주는 비타민 A, 신경계를 안정시키며 스트레스를 풀어주는 비타민 B...\n",
       "5     ○ 비타민 A, B, C의 함량이 많아서 원기 회복, 면역체계 강화에 도움 - 강심...\n",
       "6     ○ 자연살해세포의 활성을 높여 면역력 강화 효과를 보임 - 칼륨이 많이 함유되어 있...\n",
       "7     ○ 무기질과 비타민 함량이 많고, 이뇨, 해독, 동맥경화 및 소화 개선 효과 - 비...\n",
       "8     ○ 아르기닌, 프롤린, 메티오닌 등 아미노산이 풍부하며, 특히 프롤린은 스트레스 해...\n",
       "9     ○ 면역세포의 증식 및 항체 생산의 증가를 통해 면역력 증진 - 토마토에는 라이코펜...\n",
       "10    ○ 면역세포의 증식과 복강 대식세포에 의한 사이토카인 분비능력을 상승시켜 면역 기관...\n",
       "Name: 효능·효과, dtype: object"
      ]
     },
     "execution_count": 20,
     "metadata": {},
     "output_type": "execute_result"
    }
   ],
   "source": [
    "df['효능·효과']"
   ]
  },
  {
   "cell_type": "code",
   "execution_count": 21,
   "metadata": {},
   "outputs": [
    {
     "data": {
      "text/plain": [
       "Index(['no', '구분', '작물정보', '효능·효과', '요리조리복용법'], dtype='object')"
      ]
     },
     "execution_count": 21,
     "metadata": {},
     "output_type": "execute_result"
    }
   ],
   "source": [
    "df.columns"
   ]
  },
  {
   "cell_type": "code",
   "execution_count": 22,
   "metadata": {},
   "outputs": [
    {
     "data": {
      "text/html": [
       "<div>\n",
       "<style scoped>\n",
       "    .dataframe tbody tr th:only-of-type {\n",
       "        vertical-align: middle;\n",
       "    }\n",
       "\n",
       "    .dataframe tbody tr th {\n",
       "        vertical-align: top;\n",
       "    }\n",
       "\n",
       "    .dataframe thead th {\n",
       "        text-align: right;\n",
       "    }\n",
       "</style>\n",
       "<table border=\"1\" class=\"dataframe\">\n",
       "  <thead>\n",
       "    <tr style=\"text-align: right;\">\n",
       "      <th></th>\n",
       "      <th>구분</th>\n",
       "      <th>결측값</th>\n",
       "    </tr>\n",
       "  </thead>\n",
       "  <tbody>\n",
       "    <tr>\n",
       "      <td>0</td>\n",
       "      <td>no</td>\n",
       "      <td>0</td>\n",
       "    </tr>\n",
       "    <tr>\n",
       "      <td>1</td>\n",
       "      <td>구분</td>\n",
       "      <td>0</td>\n",
       "    </tr>\n",
       "    <tr>\n",
       "      <td>2</td>\n",
       "      <td>작물정보</td>\n",
       "      <td>0</td>\n",
       "    </tr>\n",
       "    <tr>\n",
       "      <td>3</td>\n",
       "      <td>효능·효과</td>\n",
       "      <td>0</td>\n",
       "    </tr>\n",
       "    <tr>\n",
       "      <td>4</td>\n",
       "      <td>요리조리복용법</td>\n",
       "      <td>0</td>\n",
       "    </tr>\n",
       "  </tbody>\n",
       "</table>\n",
       "</div>"
      ],
      "text/plain": [
       "        구분  결측값\n",
       "0       no    0\n",
       "1       구분    0\n",
       "2     작물정보    0\n",
       "3    효능·효과    0\n",
       "4  요리조리복용법    0"
      ]
     },
     "execution_count": 22,
     "metadata": {},
     "output_type": "execute_result"
    }
   ],
   "source": [
    "null_count = df.isnull().sum()\n",
    "df_null = null_count.reset_index()\n",
    "df_null.columns = ['구분','결측값']\n",
    "df_null"
   ]
  },
  {
   "cell_type": "code",
   "execution_count": 23,
   "metadata": {},
   "outputs": [
    {
     "data": {
      "text/html": [
       "<div>\n",
       "<style scoped>\n",
       "    .dataframe tbody tr th:only-of-type {\n",
       "        vertical-align: middle;\n",
       "    }\n",
       "\n",
       "    .dataframe tbody tr th {\n",
       "        vertical-align: top;\n",
       "    }\n",
       "\n",
       "    .dataframe thead th {\n",
       "        text-align: right;\n",
       "    }\n",
       "</style>\n",
       "<table border=\"1\" class=\"dataframe\">\n",
       "  <thead>\n",
       "    <tr style=\"text-align: right;\">\n",
       "      <th></th>\n",
       "      <th>구분</th>\n",
       "      <th>결측값</th>\n",
       "    </tr>\n",
       "  </thead>\n",
       "  <tbody>\n",
       "    <tr>\n",
       "      <td>2</td>\n",
       "      <td>작물정보</td>\n",
       "      <td>0</td>\n",
       "    </tr>\n",
       "    <tr>\n",
       "      <td>3</td>\n",
       "      <td>효능·효과</td>\n",
       "      <td>0</td>\n",
       "    </tr>\n",
       "    <tr>\n",
       "      <td>4</td>\n",
       "      <td>요리조리복용법</td>\n",
       "      <td>0</td>\n",
       "    </tr>\n",
       "  </tbody>\n",
       "</table>\n",
       "</div>"
      ],
      "text/plain": [
       "        구분  결측값\n",
       "2     작물정보    0\n",
       "3    효능·효과    0\n",
       "4  요리조리복용법    0"
      ]
     },
     "execution_count": 23,
     "metadata": {},
     "output_type": "execute_result"
    }
   ],
   "source": [
    "df_null.sort_values( by = '결측값').tail(3)"
   ]
  }
 ],
 "metadata": {
  "kernelspec": {
   "display_name": "Python 3",
   "language": "python",
   "name": "python3"
  },
  "language_info": {
   "codemirror_mode": {
    "name": "ipython",
    "version": 3
   },
   "file_extension": ".py",
   "mimetype": "text/x-python",
   "name": "python",
   "nbconvert_exporter": "python",
   "pygments_lexer": "ipython3",
   "version": "3.7.4"
  }
 },
 "nbformat": 4,
 "nbformat_minor": 2
}
