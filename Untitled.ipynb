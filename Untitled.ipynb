{
 "cells": [
  {
   "cell_type": "code",
   "execution_count": 1,
   "metadata": {
    "scrolled": true
   },
   "outputs": [
    {
     "name": "stdout",
     "output_type": "stream",
     "text": [
      "Requirement already satisfied: pygame in c:\\users\\user\\anaconda3\\lib\\site-packages (1.9.6)\n",
      "Note: you may need to restart the kernel to use updated packages.\n"
     ]
    }
   ],
   "source": [
    "pip install pygame"
   ]
  },
  {
   "cell_type": "code",
   "execution_count": null,
   "metadata": {},
   "outputs": [],
   "source": [
    "import sys\n",
    "import pygame\n",
    "from pygame.locals import QUIT\n",
    "pygame.init()\n",
    "SURFACE = pygame.display.set_mode((400,300))\n",
    "pygame.display.set_caption('Game Window')\n",
    "def main() :\n",
    "    while True:\n",
    "        SURFACE.fill((255,255,255))\n",
    "        for event in pygame.event.get():\n",
    "            if event.type == QUIT :\n",
    "                pygame.quit()\n",
    "                sys.exit()\n",
    "            pygame.display.update()\n",
    "if __name__=='__main__' :\n",
    "    main()"
   ]
  },
  {
   "cell_type": "code",
   "execution_count": 5,
   "metadata": {},
   "outputs": [
    {
     "ename": "SystemExit",
     "evalue": "",
     "output_type": "error",
     "traceback": [
      "An exception has occurred, use %tb to see the full traceback.\n",
      "\u001b[1;31mSystemExit\u001b[0m\n"
     ]
    }
   ],
   "source": [
    "import sys\n",
    "import pygame\n",
    "from pygame.locals import QUIT\n",
    "pygame.init()\n",
    "SURFACE = pygame.display.set_mode((400,300))\n",
    "pygame.display.set_caption('Game Window')\n",
    "def main() :\n",
    "    sysfont = pygame.font.SysFont(None, 72)\n",
    "    message1 = sysfont.render('Hello Python', True, (0, 128, 128))\n",
    "    message1_rect = message1.get_rect()\n",
    "    message1_rect.center = (200,100)\n",
    "    \n",
    "    while True:\n",
    "        SURFACE.fill((255,255,255))\n",
    "        for event in pygame.event.get():\n",
    "            if event.type == QUIT :\n",
    "                pygame.quit()\n",
    "                sys.exit()\n",
    "            SURFACE.blit(message1, message1_rect)\n",
    "            pygame.display.update()\n",
    "if __name__=='__main__' :\n",
    "    main()"
   ]
  },
  {
   "cell_type": "code",
   "execution_count": 7,
   "metadata": {},
   "outputs": [
    {
     "ename": "SystemExit",
     "evalue": "",
     "output_type": "error",
     "traceback": [
      "An exception has occurred, use %tb to see the full traceback.\n",
      "\u001b[1;31mSystemExit\u001b[0m\n"
     ]
    }
   ],
   "source": [
    "import sys\n",
    "import pygame\n",
    "from pygame.locals import QUIT\n",
    "pygame.init()\n",
    "SURFACE = pygame.display.set_mode((400,300))\n",
    "pygame.display.set_caption('Game Window')\n",
    "def main() :\n",
    "    sysfont = pygame.font.SysFont(None, 72)\n",
    "    message1 = sysfont.render('Hello Python', True, (0, 128, 128))\n",
    "    message1_rect = message1.get_rect()\n",
    "    message1_rect.center = (200,100)\n",
    "    \n",
    "    message2 = sysfont.render('OK! Python', True, (0, 128, 128))\n",
    "    message2_rect = message2.get_rect()\n",
    "    message2_rect.center = (200,200)\n",
    "    \n",
    "    while True:\n",
    "        SURFACE.fill((255,255,255))\n",
    "        for event in pygame.event.get():\n",
    "            if event.type == QUIT :\n",
    "                pygame.quit()\n",
    "                sys.exit()\n",
    "            SURFACE.blit(message1, message1_rect)\n",
    "            SURFACE.blit(message2, message2_rect)\n",
    "            pygame.display.update()\n",
    "if __name__=='__main__' :\n",
    "    main()"
   ]
  },
  {
   "cell_type": "code",
   "execution_count": 13,
   "metadata": {},
   "outputs": [
    {
     "ename": "SystemExit",
     "evalue": "",
     "output_type": "error",
     "traceback": [
      "An exception has occurred, use %tb to see the full traceback.\n",
      "\u001b[1;31mSystemExit\u001b[0m\n"
     ]
    }
   ],
   "source": [
    "import sys\n",
    "import pygame\n",
    "from pygame.locals import QUIT\n",
    "pygame.init()\n",
    "SURFACE = pygame.display.set_mode((400,300))\n",
    "pygame.display.set_caption('Game Window')\n",
    "def main() :\n",
    "    sysfont = pygame.font.SysFont(None, 36)\n",
    "    counter = 0\n",
    "    count_image = sysfont.render('Counter is {}'.format(counter), True, \n",
    "                (255,255,255))\n",
    "    \n",
    "    while True:\n",
    "        SURFACE.fill((0,0,0))\n",
    "        for event in pygame.event.get():\n",
    "            if event.type == QUIT :\n",
    "                pygame.quit()\n",
    "                sys.exit()\n",
    "            SURFACE.blit(count_image, (50,50))\n",
    "            pygame.display.update()\n",
    "if __name__=='__main__' :\n",
    "    main()"
   ]
  },
  {
   "cell_type": "code",
   "execution_count": 7,
   "metadata": {},
   "outputs": [
    {
     "data": {
      "text/plain": [
       "(60, 40)"
      ]
     },
     "execution_count": 7,
     "metadata": {},
     "output_type": "execute_result"
    }
   ],
   "source": [
    "r= Rect(30, 20, 60, 40)\n",
    "r.center"
   ]
  },
  {
   "cell_type": "code",
   "execution_count": 9,
   "metadata": {},
   "outputs": [
    {
     "data": {
      "text/plain": [
       "(30, 60)"
      ]
     },
     "execution_count": 9,
     "metadata": {},
     "output_type": "execute_result"
    }
   ],
   "source": [
    "r.bottomleft"
   ]
  },
  {
   "cell_type": "code",
   "execution_count": 10,
   "metadata": {},
   "outputs": [
    {
     "data": {
      "text/plain": [
       "60"
      ]
     },
     "execution_count": 10,
     "metadata": {},
     "output_type": "execute_result"
    }
   ],
   "source": [
    "r.width"
   ]
  },
  {
   "cell_type": "code",
   "execution_count": 11,
   "metadata": {},
   "outputs": [
    {
     "data": {
      "text/plain": [
       "<rect(30, 20, 60, 40)>"
      ]
     },
     "execution_count": 11,
     "metadata": {},
     "output_type": "execute_result"
    }
   ],
   "source": [
    "r.move(100,100)\n",
    "r"
   ]
  },
  {
   "cell_type": "code",
   "execution_count": 12,
   "metadata": {},
   "outputs": [
    {
     "data": {
      "text/plain": [
       "<rect(130, 120, 60, 40)>"
      ]
     },
     "execution_count": 12,
     "metadata": {},
     "output_type": "execute_result"
    }
   ],
   "source": [
    "r.move_ip(100,100)\n",
    "r"
   ]
  },
  {
   "cell_type": "code",
   "execution_count": 2,
   "metadata": {},
   "outputs": [
    {
     "name": "stdout",
     "output_type": "stream",
     "text": [
      "pygame 1.9.6\n",
      "Hello from the pygame community. https://www.pygame.org/contribute.html\n"
     ]
    },
    {
     "ename": "SystemExit",
     "evalue": "",
     "output_type": "error",
     "traceback": [
      "An exception has occurred, use %tb to see the full traceback.\n",
      "\u001b[1;31mSystemExit\u001b[0m\n"
     ]
    },
    {
     "name": "stderr",
     "output_type": "stream",
     "text": [
      "C:\\Users\\user\\Anaconda3\\lib\\site-packages\\IPython\\core\\interactiveshell.py:3334: UserWarning: To exit: use 'exit', 'quit', or Ctrl-D.\n",
      "  warn(\"To exit: use 'exit', 'quit', or Ctrl-D.\", stacklevel=1)\n"
     ]
    }
   ],
   "source": [
    "import sys\n",
    "import pygame\n",
    "from pygame.locals import QUIT,Rect\n",
    "pygame.init()\n",
    "SURFACE=pygame.display.set_mode((400,300))\n",
    "pygame.display.set_caption('Game Window')\n",
    "def main():\n",
    "    r=Rect(30,20,60,40)\n",
    "    r.center\n",
    "    r.bottomleft\n",
    "    r.width\n",
    "    r.move(100,100)\n",
    "    \n",
    "    r.move_ip(100,100)\n",
    "    \n",
    "    while True:\n",
    "        SURFACE.fill((0,0,0))\n",
    "        for event in pygame.event.get():\n",
    "            if event.type == QUIT:\n",
    "                pygame.quit()\n",
    "                sys.exit()\n",
    "        \n",
    "            pygame.draw.rect(SURFACE, (255,0,0),(100,100,200,200))\n",
    "            pygame.draw.rect(SURFACE, (0,255,0),(50,50,100,100),3)\n",
    "            pygame.draw.rect(SURFACE, (0,0,255),((100,80),(80,50)))\n",
    "\n",
    "            rect0 = Rect(200,60,140,80)\n",
    "            pygame.draw.rect(SURFACE,(255,255,0),rect0)\n",
    "\n",
    "            pygame.draw.line(SURFACE,(255,0,0),(10,80),(200,80))\n",
    "            pygame.draw.line(SURFACE,(0,255,0),(10,150),(200,150),15)\n",
    "            pygame.draw.line(SURFACE,(0,0,255),(250,30),(250,200),30)\n",
    "            pygame.draw.circle(SURFACE,(255,0,255),(50,250),10)\n",
    "            pygame.draw.circle(SURFACE,(0,255,0),(150,250),20)\n",
    "            pygame.draw.circle(SURFACE,(255,255,0),(250,250),30)\n",
    "            pygame.display.update()\n",
    "if __name__=='__main__':\n",
    "    main()"
   ]
  },
  {
   "cell_type": "code",
   "execution_count": 3,
   "metadata": {},
   "outputs": [
    {
     "ename": "SystemExit",
     "evalue": "",
     "output_type": "error",
     "traceback": [
      "An exception has occurred, use %tb to see the full traceback.\n",
      "\u001b[1;31mSystemExit\u001b[0m\n"
     ]
    }
   ],
   "source": [
    "import sys\n",
    "import pygame\n",
    "from pygame.locals import QUIT,Rect\n",
    "pygame.init()\n",
    "SURFACE=pygame.display.set_mode((400,300))\n",
    "pygame.display.set_caption('Game Window')\n",
    "def main():\n",
    "    r=Rect(30,20,60,40)\n",
    "    r.center\n",
    "    r.bottomleft\n",
    "    r.width\n",
    "    r.move(100,100)\n",
    "    \n",
    "    r.move_ip(100,100)\n",
    "    \n",
    "    while True:\n",
    "        SURFACE.fill((0,0,0))\n",
    "        for event in pygame.event.get():\n",
    "            if event.type == QUIT:\n",
    "                pygame.quit()\n",
    "                sys.exit()\n",
    "        for xpos in range(0,400,25):\n",
    "            pygame.draw.line(SURFACE,(255,255,255),(xpos,0),(xpos,300))\n",
    "            for ypos in range(0,300,25):\n",
    "                pygame.draw.line(SURFACE,(255,255,255),(0,ypos),(400,ypos))\n",
    "            \n",
    "            pygame.display.update()\n",
    "if __name__=='__main__':\n",
    "    main()"
   ]
  }
 ],
 "metadata": {
  "kernelspec": {
   "display_name": "Python 3",
   "language": "python",
   "name": "python3"
  },
  "language_info": {
   "codemirror_mode": {
    "name": "ipython",
    "version": 3
   },
   "file_extension": ".py",
   "mimetype": "text/x-python",
   "name": "python",
   "nbconvert_exporter": "python",
   "pygments_lexer": "ipython3",
   "version": "3.7.4"
  }
 },
 "nbformat": 4,
 "nbformat_minor": 2
}
