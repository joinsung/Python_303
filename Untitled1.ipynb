{
 "cells": [
  {
   "cell_type": "markdown",
   "metadata": {},
   "source": [
    "## class\n",
    "-실세계 모든 것을 모델링하여 속성과 동작을 갖는 데이터타입"
   ]
  },
  {
   "cell_type": "code",
   "execution_count": 2,
   "metadata": {},
   "outputs": [
    {
     "name": "stdout",
     "output_type": "stream",
     "text": [
      "[1, 2, 3, 4, 5, 6]\n"
     ]
    }
   ],
   "source": [
    "a =[1,2,3,4,5]\n",
    "a.append(6)\n",
    "print(a)"
   ]
  },
  {
   "cell_type": "code",
   "execution_count": 3,
   "metadata": {},
   "outputs": [],
   "source": [
    "def test_1():\n",
    "    pass\n",
    "def test_2():\n",
    "    pass"
   ]
  },
  {
   "cell_type": "code",
   "execution_count": 6,
   "metadata": {},
   "outputs": [],
   "source": [
    "class person:\n",
    "    pass"
   ]
  },
  {
   "cell_type": "code",
   "execution_count": 11,
   "metadata": {},
   "outputs": [],
   "source": [
    "bob = person()\n",
    "kim = person()"
   ]
  },
  {
   "cell_type": "code",
   "execution_count": 14,
   "metadata": {},
   "outputs": [],
   "source": [
    "a = list()\n",
    "b = dict() "
   ]
  },
  {
   "cell_type": "code",
   "execution_count": 23,
   "metadata": {},
   "outputs": [
    {
     "data": {
      "text/plain": [
       "(list, dict)"
      ]
     },
     "execution_count": 23,
     "metadata": {},
     "output_type": "execute_result"
    }
   ],
   "source": [
    "type(a), type(b)"
   ]
  },
  {
   "cell_type": "code",
   "execution_count": 29,
   "metadata": {},
   "outputs": [],
   "source": [
    "class person():\n",
    "    def __init__(self, name, age = 5):\n",
    "        print(self, 'is Good')\n",
    "        self.name = name\n",
    "        self.age = age"
   ]
  },
  {
   "cell_type": "code",
   "execution_count": 34,
   "metadata": {},
   "outputs": [
    {
     "name": "stdout",
     "output_type": "stream",
     "text": [
      "<__main__.person object at 0x000001485EB9C688> is Good\n"
     ]
    },
    {
     "data": {
      "text/plain": [
       "'조인성'"
      ]
     },
     "execution_count": 34,
     "metadata": {},
     "output_type": "execute_result"
    }
   ],
   "source": [
    "p1 = person('조인성')\n",
    "p1.name\n"
   ]
  },
  {
   "cell_type": "code",
   "execution_count": 35,
   "metadata": {},
   "outputs": [
    {
     "name": "stdout",
     "output_type": "stream",
     "text": [
      "조인성\n"
     ]
    }
   ],
   "source": [
    "print(p1.name)"
   ]
  },
  {
   "cell_type": "code",
   "execution_count": 36,
   "metadata": {},
   "outputs": [
    {
     "name": "stdout",
     "output_type": "stream",
     "text": [
      "5\n"
     ]
    }
   ],
   "source": [
    "print(p1.age)"
   ]
  },
  {
   "cell_type": "code",
   "execution_count": 37,
   "metadata": {},
   "outputs": [
    {
     "name": "stdout",
     "output_type": "stream",
     "text": [
      "허호정\n"
     ]
    }
   ],
   "source": [
    "p1.name = '허호정'\n",
    "print(p1.name)"
   ]
  },
  {
   "cell_type": "code",
   "execution_count": 40,
   "metadata": {},
   "outputs": [
    {
     "name": "stdout",
     "output_type": "stream",
     "text": [
      "<__main__.person object at 0x000001485EB98808> is Good\n",
      "<__main__.person object at 0x000001485EB987C8> is Good\n",
      "<__main__.person object at 0x000001485EB98148> is Good\n",
      "허대범 30\n",
      "김재홍 45\n",
      "박가현 5\n"
     ]
    }
   ],
   "source": [
    "p1 = person('허대범',30)\n",
    "p2 = person('김재홍',45)\n",
    "p3 = person('박가현')\n",
    "print(p1.name, p1.age)\n",
    "print(p2.name, p2.age)\n",
    "print(p3.name, p3.age)"
   ]
  },
  {
   "cell_type": "code",
   "execution_count": 68,
   "metadata": {},
   "outputs": [],
   "source": [
    "class person():\n",
    "    def __init__(self, name, age = 5, time = 10):\n",
    "#        print(self, 'is Good')\n",
    "        self.name = name\n",
    "        self.age = age\n",
    "        self.time = time\n",
    "        \n",
    "    def sleep(self):\n",
    "            #박가현은 잠을 잔다.\n",
    "            \n",
    "        print(self.name, '은 잠을 잔다.')\n",
    "            \n",
    "    def game(self):\n",
    "            \n",
    "            print(self.name, '은',self.time, '분 동안 게임을 했다.')"
   ]
  },
  {
   "cell_type": "code",
   "execution_count": 69,
   "metadata": {},
   "outputs": [
    {
     "name": "stdout",
     "output_type": "stream",
     "text": [
      "박가현 은 잠을 잔다.\n",
      "박가현 은 20 분 동안 게임을 했다.\n"
     ]
    }
   ],
   "source": [
    "p5= person('박가현', 20, 20)\n",
    "p5.sleep()\n",
    "p5.game()"
   ]
  },
  {
   "cell_type": "markdown",
   "metadata": {},
   "source": [
    "### [문제] counter 라는 클래스는\n",
    "- num의 초기값이 0\n",
    "- inc() 매소드를 호출할 때마다 1씩 증가\n",
    "- reset() num의 초기값을 0으로 셋팅\n",
    "- print_cnt()  //'현재 num값은 00이다.'"
   ]
  },
  {
   "cell_type": "code",
   "execution_count": 76,
   "metadata": {},
   "outputs": [],
   "source": [
    "class counter():\n",
    "    def __init__(self, num=0):\n",
    "        self.num = 0\n",
    "        \n",
    "    def inc(self):\n",
    "        self.num += 1\n",
    "        \n",
    "    def reset(self):\n",
    "        self.num = 0\n",
    "        \n",
    "    def print_cnt(self):\n",
    "        print('현재 num값은 %d이다.'%self.num)"
   ]
  },
  {
   "cell_type": "code",
   "execution_count": 78,
   "metadata": {},
   "outputs": [
    {
     "name": "stdout",
     "output_type": "stream",
     "text": [
      "현재 num값은 4이다.\n"
     ]
    }
   ],
   "source": [
    "n1 = counter()\n",
    "n1.inc()\n",
    "n1.inc()\n",
    "n1.inc()\n",
    "n1.inc()\n",
    "n1.print_cnt()"
   ]
  },
  {
   "cell_type": "code",
   "execution_count": 88,
   "metadata": {},
   "outputs": [],
   "source": [
    "class person():\n",
    "    def __init__(self, name, age):\n",
    "        self.name = name\n",
    "        self.age = age\n",
    "        \n",
    "    def eat(self, food):\n",
    "        self.food = food\n",
    "        print('{}는 어제 {}을 먹었다'.format(self.name, self.food))\n",
    "        \n",
    "    def sleep(self,time):\n",
    "        self.time = time\n",
    "        print('{}는 어제 {}시간정도 잤다'.format(self.name, self.time))    \n",
    "        \n",
    "        \n",
    "    def go(self, job):\n",
    "        self.job = job\n",
    "        print('{}는 졸업후 {}에 다닌다'.format(self.name, self.job))    \n",
    "        \n",
    "        \n",
    "        \n",
    "        \n",
    "#     def sleep(self):\n",
    "#             #박가현은 잠을 잔다.\n",
    "            \n",
    "#         print(self.name, '은 잠을 잔다.')\n",
    "            \n",
    "#     def game(self):\n",
    "            \n",
    "#             print(self.name, '은',self.time, '분 동안 게임을 했다.')"
   ]
  },
  {
   "cell_type": "code",
   "execution_count": 89,
   "metadata": {},
   "outputs": [
    {
     "name": "stdout",
     "output_type": "stream",
     "text": [
      "김환는 어제 치킨을 먹었다\n",
      "김환는 어제 10시간정도 잤다\n",
      "김환는 졸업후 인하대학교 컴퓨터공학과에 다닌다\n"
     ]
    }
   ],
   "source": [
    "p6 = person('김환', 20)\n",
    "p6.eat('치킨')\n",
    "p6.sleep(10)\n",
    "p6.go('인하대학교 컴퓨터공학과')"
   ]
  },
  {
   "cell_type": "code",
   "execution_count": 103,
   "metadata": {},
   "outputs": [],
   "source": [
    "class person():\n",
    "    def __init__(self, name, age):\n",
    "        self.name = name\n",
    "        self.age = age\n",
    "        \n",
    "    def eat(self, food):\n",
    "        self.food = food\n",
    "        print('{}는 어제 {}을 먹었다'.format(self.name, self.food))\n",
    "        \n",
    "    def sleep(self,time):\n",
    "        self.time = time\n",
    "        print('{}는 어제 {}시간정도 잤다'.format(self.name, self.time))    \n",
    "        \n",
    "        \n",
    "    def go(self, job):\n",
    "        self.job = job\n",
    "        print('{}는 졸업후 {}에 다닌다'.format(self.name, self.job))    \n",
    "    \n",
    "class student(person):\n",
    "    def __init__(self, name, age):\n",
    "        self.name = name\n",
    "        self.age = age\n",
    "    def sleep(self,time):\n",
    "        super().sleep(time)\n",
    "        print('{}는 오늘 {}시간동안 게임할꺼다'.format(self.name, time)) \n",
    "        \n",
    "class Employee(person):\n",
    "    def sleep(self,time):\n",
    "        self.time = time\n",
    "        print('{}는 오늘 {}시간동안 게임할꺼다'.format(self.name, self.time))  "
   ]
  },
  {
   "cell_type": "code",
   "execution_count": 104,
   "metadata": {},
   "outputs": [
    {
     "name": "stdout",
     "output_type": "stream",
     "text": [
      "김환는 어제 치킨을 먹었다\n",
      "김환는 어제 23시간정도 잤다\n",
      "김환는 오늘 23시간동안 게임할꺼다\n",
      "김환는 졸업후 인하대학교 컴퓨터공학과에 다닌다\n"
     ]
    }
   ],
   "source": [
    "p7 = student('김환', 20)\n",
    "p7.eat('치킨')\n",
    "p7.sleep(23)\n",
    "p7.go('인하대학교 컴퓨터공학과')"
   ]
  },
  {
   "cell_type": "code",
   "execution_count": 114,
   "metadata": {},
   "outputs": [],
   "source": [
    "class person():\n",
    "    def __init__(self, name, age):\n",
    "        self.name = name\n",
    "        self.age = age\n",
    "        \n",
    "    def eat(self, food):\n",
    "        self.food = food\n",
    "        print('{}는 어제 {}을 먹었다'.format(self.name, self.food))\n",
    "        \n",
    "    def sleep(self,time):\n",
    "        self.time = time\n",
    "        print('{}는 어제 {}시간정도 잤다'.format(self.name, self.time))    \n",
    "        \n",
    "        \n",
    "    def go(self, job):\n",
    "        self.job = job\n",
    "        print('{}는 졸업후 {}에 다닌다'.format(self.name, self.job))    \n",
    "    \n",
    "class student(person):\n",
    "    def __init__(self, name, age):\n",
    "        self.name = name\n",
    "        self.age = age\n",
    "    def sleep(self,time):\n",
    "        super().sleep(time)\n",
    "        print('{}는 오늘 {}시간동안 게임할꺼다'.format(self.name, time)) \n",
    "        \n",
    "class Employee(person):\n",
    "    def __init__(self, name, age):\n",
    "        self.name = name\n",
    "        self.age = age\n",
    "    def job(self,job):\n",
    "        super().go(job)\n",
    "        print('{}는 {}졸업해서 삼성에 취업했다'.format(self.name, job))"
   ]
  },
  {
   "cell_type": "code",
   "execution_count": 115,
   "metadata": {},
   "outputs": [
    {
     "name": "stdout",
     "output_type": "stream",
     "text": [
      "김환는 어제 치킨을 먹었다\n",
      "김환는 어제 23시간정도 잤다\n",
      "김환는 졸업후 인하대학교 컴퓨터공학과에 다닌다\n"
     ]
    }
   ],
   "source": [
    "p8 = Employee('김환', 20)\n",
    "p8.eat('치킨')\n",
    "p8.sleep(23)\n",
    "p8.go('인하대학교 컴퓨터공학과')"
   ]
  }
 ],
 "metadata": {
  "kernelspec": {
   "display_name": "Python 3",
   "language": "python",
   "name": "python3"
  },
  "language_info": {
   "codemirror_mode": {
    "name": "ipython",
    "version": 3
   },
   "file_extension": ".py",
   "mimetype": "text/x-python",
   "name": "python",
   "nbconvert_exporter": "python",
   "pygments_lexer": "ipython3",
   "version": "3.7.4"
  }
 },
 "nbformat": 4,
 "nbformat_minor": 4
}
